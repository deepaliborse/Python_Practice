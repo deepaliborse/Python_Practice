{
 "cells": [
  {
   "cell_type": "code",
   "execution_count": 2,
   "metadata": {},
   "outputs": [
    {
     "name": "stdout",
     "output_type": "stream",
     "text": [
      "Enter any number:10\n",
      "Result:  10.0\n"
     ]
    }
   ],
   "source": [
    "userInput=int(input(\"Enter any number:\"))\n",
    "\n",
    "result = 100/userInput\n",
    "\n",
    "print(\"Result: \",result)"
   ]
  },
  {
   "cell_type": "markdown",
   "metadata": {},
   "source": [
    "- This will throw error if user input 0 or alphabates or special characters\n",
    "- To handle that error so that entire code won't be shut, we need to handle it using try-except"
   ]
  },
  {
   "cell_type": "code",
   "execution_count": 4,
   "metadata": {},
   "outputs": [
    {
     "name": "stdout",
     "output_type": "stream",
     "text": [
      "Enter any number:a\n",
      "Please enter numbers only!\n",
      "Don't enter characters\n"
     ]
    }
   ],
   "source": [
    "try: \n",
    "    userInput=int(input(\"Enter any number:\"))\n",
    "\n",
    "    result = 100/userInput\n",
    "\n",
    "    print(\"Result: \",result)\n",
    "    \n",
    "except ValueError:\n",
    "    print(\"\\nPlease enter numbers only!\")\n",
    "    print(\"Don't enter characters\")\n",
    "    \n",
    "except ZeroDivisionError:\n",
    "    print(\"\\nDivide by zero error!\")"
   ]
  },
  {
   "cell_type": "markdown",
   "metadata": {},
   "source": [
    "## Generic Exception\n",
    "- If we don't know what exception will occure, we can make it general.\n",
    "\n",
    "- **Exception** is the base class of all exceptions \n"
   ]
  },
  {
   "cell_type": "code",
   "execution_count": 11,
   "metadata": {},
   "outputs": [
    {
     "name": "stdout",
     "output_type": "stream",
     "text": [
      "Enter any number:0\n",
      "\n",
      "Some problem occured!\n",
      "Object: division by zero \n",
      "Class: <class 'ZeroDivisionError'> \n",
      "Name: ZeroDivisionError\n"
     ]
    }
   ],
   "source": [
    "try: \n",
    "    userInput=int(input(\"Enter any number:\"))\n",
    "\n",
    "    result = 100/userInput\n",
    "\n",
    "    print(\"Result: \",result)\n",
    "    \n",
    "except Exception as e:\n",
    "    print(\"\\nSome problem occured!\\nObject:\", e, \"\\nClass:\", e.__class__, \"\\nName:\",type(e).__name__)\n"
   ]
  },
  {
   "cell_type": "markdown",
   "metadata": {},
   "source": [
    "### Try-Exception using file:"
   ]
  },
  {
   "cell_type": "code",
   "execution_count": 13,
   "metadata": {},
   "outputs": [
    {
     "name": "stdout",
     "output_type": "stream",
     "text": [
      "Enter any number:a\n",
      "\n",
      "Some problem occured!:  ValueError\n"
     ]
    }
   ],
   "source": [
    "try: \n",
    "    fh = open(\"ExceptionHandling\", \"w\")\n",
    "    fh.write(\"Writing in the file!\\n\")\n",
    "    \n",
    "    userInput=int(input(\"Enter any number:\"))\n",
    "    fh.write(\"User entered input is: {}\\n\".format(userInput))\n",
    "\n",
    "    result = 100/userInput\n",
    "    fh.write(\"Result: {}\\n\".format(result))\n",
    "\n",
    "    print(\"Result: \",result)\n",
    "    fh.write(\"Closing file!!\")\n",
    "    \n",
    "    fh.close()\n",
    "    \n",
    "except Exception as e:\n",
    "    print(\"\\nSome problem occured!: \",type(e).__name__)\n"
   ]
  },
  {
   "cell_type": "markdown",
   "metadata": {},
   "source": [
    "- Above code will run without error but problem is that the text file is still not closed properly.\n",
    "\n",
    "### Finally:\n",
    "- Finally block is used for the instructions even though the exceptions occured or not\n",
    "- Here we need to close the file, even though the code is running properly or not.\n",
    "- So we will use **finally** to close the file"
   ]
  },
  {
   "cell_type": "code",
   "execution_count": 16,
   "metadata": {},
   "outputs": [
    {
     "name": "stdout",
     "output_type": "stream",
     "text": [
      "Enter any number:0\n",
      "\n",
      "Some problem occured!:  ZeroDivisionError\n"
     ]
    }
   ],
   "source": [
    "try: \n",
    "    fh = open(\"ExceptionHandling\", \"w\")\n",
    "    fh.write(\"Writing in the file!\\n\")\n",
    "    \n",
    "    userInput=int(input(\"Enter any number:\"))\n",
    "    fh.write(\"User entered input is: {}\\n\".format(userInput))\n",
    "\n",
    "    result = 100/userInput\n",
    "    fh.write(\"Result: {}\\n\".format(result))\n",
    "\n",
    "    print(\"Result: \",result)\n",
    "\n",
    "except Exception as e:\n",
    "    print(\"\\nSome problem occured!: \",type(e).__name__)\n",
    "    \n",
    "finally:\n",
    "    fh.write(\"Closing file!!\")\n",
    "    fh.close()"
   ]
  },
  {
   "cell_type": "code",
   "execution_count": null,
   "metadata": {},
   "outputs": [],
   "source": []
  }
 ],
 "metadata": {
  "kernelspec": {
   "display_name": "Python 3",
   "language": "python",
   "name": "python3"
  },
  "language_info": {
   "codemirror_mode": {
    "name": "ipython",
    "version": 3
   },
   "file_extension": ".py",
   "mimetype": "text/x-python",
   "name": "python",
   "nbconvert_exporter": "python",
   "pygments_lexer": "ipython3",
   "version": "3.7.6"
  }
 },
 "nbformat": 4,
 "nbformat_minor": 4
}
