{
 "cells": [
  {
   "cell_type": "markdown",
   "metadata": {},
   "source": [
    "# RegEx\n",
    "\n",
    "+ To get hold of regex, we need to know:\n",
    "\n",
    "1. How to we need to search pattern(Identifier)\n",
    "2. How do we specify modifiers\n",
    "\n",
    "\n",
    "+ For practice: pythex"
   ]
  },
  {
   "cell_type": "markdown",
   "metadata": {},
   "source": [
    "- **RegEx** is like patterns matching"
   ]
  },
  {
   "cell_type": "markdown",
   "metadata": {},
   "source": [
    "### # GREP - Global Regular Expression Print"
   ]
  },
  {
   "cell_type": "markdown",
   "metadata": {},
   "source": [
    "+ **Identifiers: (To look out for something)**\n",
    "- \\d      Any Number\n",
    "- \\D      Anything but a Number\n",
    "- \\s      Space\n",
    "- \\S      Anything but a Space\n",
    "- \\w      Any Character\n",
    "- \\W      Anything but a Character\n",
    "- .       any character, except for a newline\n",
    "- \\b      The whitespace around Words\n",
    "- \\.      a period\n",
    "\n",
    "+ **Modifiers: (To look for the count)**\n",
    "- {1,3}   Expecting 1-3 ex. \\d{1,3}\n",
    "- '+'       Match 1 or more\n",
    "- ?       Match 0 or 1\n",
    "- '*'       Match 0 or more\n",
    "- $       Match the end of a string\n",
    "- ^       Match the beginning of a string\n",
    "- |       Either or\n",
    "- []      range or \"variance\" [A-Z], [A-Za-z], [1-5], [1-5a-eA-Z]\n",
    "- {n}     expecting \"n\" amount ex. \\d{4}\n",
    "\n",
    "\n",
    "+ **White Space Characters**\n",
    "- \\n      new line\n",
    "- \\s      space\n",
    "- \\t      tab\n",
    "- \\e      escape\n",
    "- \\f      form feed\n",
    "- \\r      carriage return\n",
    "\n",
    "+ DONT FORGET THE BELOW CHARACTERS (Use Escape characters to use them)\n",
    ". + * ? [ ] $ ^ ( ) { } | \\\n"
   ]
  },
  {
   "cell_type": "code",
   "execution_count": 5,
   "metadata": {},
   "outputs": [],
   "source": [
    "import re"
   ]
  },
  {
   "cell_type": "code",
   "execution_count": 14,
   "metadata": {},
   "outputs": [
    {
     "name": "stdout",
     "output_type": "stream",
     "text": [
      "['Welcome', 'to', '', '', 'Regex', '', '', '', 'Programming', '', '', 'using', '', '', 'Python']\n"
     ]
    }
   ],
   "source": [
    "s = \"Welcome to   Regex    Programming   using   Python\"\n",
    "lstWords = s.split(\" \")\n",
    "print(lstWords)"
   ]
  },
  {
   "cell_type": "code",
   "execution_count": 15,
   "metadata": {},
   "outputs": [
    {
     "name": "stdout",
     "output_type": "stream",
     "text": [
      "The value of s: \n",
      " Welcome to   Regex    Programming   using   Python\n"
     ]
    }
   ],
   "source": [
    "s = \"Welcome to   Regex    Programming   using   Python\"\n",
    "print(\"The value of s: \\n\", s)\n"
   ]
  },
  {
   "cell_type": "code",
   "execution_count": 16,
   "metadata": {},
   "outputs": [
    {
     "name": "stdout",
     "output_type": "stream",
     "text": [
      "Regex split using '\\s':\n",
      " ['Welcome', 'to', '', '', 'Regex', '', '', '', 'Programming', '', '', 'using', '', '', 'Python']\n"
     ]
    }
   ],
   "source": [
    "lstValues = re.split(r\"\\s\", s)                               # \"\\s\" -> space (**Indentifier)\n",
    "print(\"Regex split using '\\s':\\n\", lstValues)"
   ]
  },
  {
   "cell_type": "code",
   "execution_count": 17,
   "metadata": {},
   "outputs": [
    {
     "name": "stdout",
     "output_type": "stream",
     "text": [
      "Regex split using '\\s+':\n",
      "  ['Welcome', 'to', 'Regex', 'Programming', 'using', 'Python']\n"
     ]
    }
   ],
   "source": [
    "lstValues = re.split(r\"\\s+\", s)                               # \"\\s+\" -> \\s:Space(**Indentifier), + : 1 or more(**modifier)\n",
    "print(\"Regex split using '\\s+':\\n \", lstValues)"
   ]
  },
  {
   "cell_type": "code",
   "execution_count": 18,
   "metadata": {},
   "outputs": [
    {
     "name": "stdout",
     "output_type": "stream",
     "text": [
      "Regex split using 's+':\n",
      "  ['Welcome to   Regex    Programming   u', 'ing   Python']\n"
     ]
    }
   ],
   "source": [
    "lstValues = re.split(r\"s+\", s)                               # \"s+\" -> will stop at s and will treat everything after \n",
    "                                                             # s as another string., + : 1 or more(**modifier)\n",
    "                                                             # s as character literal\n",
    "print(\"Regex split using 's+':\\n \", lstValues)"
   ]
  },
  {
   "cell_type": "code",
   "execution_count": 19,
   "metadata": {},
   "outputs": [
    {
     "name": "stdout",
     "output_type": "stream",
     "text": [
      "Regex split using '[a-f]':\n",
      " ['W', 'l', 'om', ' to R', 'g', 'x Progr', 'mming using Python']\n"
     ]
    }
   ],
   "source": [
    "s = \"Welcome to Regex Programming using Python\"\n",
    "\n",
    "lstValues = re.split(r\"[a-f]\", s)\n",
    "\n",
    "print(\"Regex split using '[a-f]':\\n\", lstValues)"
   ]
  },
  {
   "cell_type": "code",
   "execution_count": 20,
   "metadata": {},
   "outputs": [
    {
     "name": "stdout",
     "output_type": "stream",
     "text": [
      "Regex split using '[a-f][l-n]:\n",
      " ['W', 'come to Regex Progr', 'ming using Python']\n"
     ]
    }
   ],
   "source": [
    "lstValues = re.split(r\"[a-f][l-n]\", s)\n",
    "\n",
    "# [a-f] -> a b c d e f\n",
    "# [l-m] -> l m n\n",
    "# al am an bl bm bn cl cm cn\n",
    "# dl dm dn el em en fl fm fn\n",
    "# W\n",
    "# come to Regex Progr\n",
    "# ming using Python\n",
    "\n",
    "print(\"Regex split using '[a-f][l-n]:\\n\", lstValues)"
   ]
  },
  {
   "cell_type": "code",
   "execution_count": 22,
   "metadata": {},
   "outputs": [],
   "source": [
    "address = \"78 Hi 11    89 Main, 4th Cross, 123, Road, Marathalli, 5678 Bangalore, 560023 67893\""
   ]
  },
  {
   "cell_type": "code",
   "execution_count": 23,
   "metadata": {},
   "outputs": [
    {
     "name": "stdout",
     "output_type": "stream",
     "text": [
      "Numbers using the pattern '\\d+':\n",
      "\n",
      " ['78', '11', '89', '4', '123', '5678', '560023', '67893']\n"
     ]
    }
   ],
   "source": [
    "lstValues = re.findall(r\"\\d+\", address)\n",
    "print(\"Numbers using the pattern '\\d+':\\n\\n\", lstValues)"
   ]
  },
  {
   "cell_type": "code",
   "execution_count": 24,
   "metadata": {},
   "outputs": [
    {
     "name": "stdout",
     "output_type": "stream",
     "text": [
      "Numbers using the pattern '\\d{6}':\n",
      "\n",
      " ['560023']\n"
     ]
    }
   ],
   "source": [
    "lstValues = re.findall(r\"\\d{6}\", address)\n",
    "print(\"Numbers using the pattern '\\d{6}':\\n\\n\", lstValues)"
   ]
  },
  {
   "cell_type": "code",
   "execution_count": 25,
   "metadata": {},
   "outputs": [
    {
     "name": "stdout",
     "output_type": "stream",
     "text": [
      "Numbers using the pattern '\\d{2}':\n",
      "\n",
      " ['78', '11', '89', '12', '56', '78', '56', '00', '23', '67', '89']\n"
     ]
    }
   ],
   "source": [
    "lstValues = re.findall(r\"\\d{2}\", address)\n",
    "print(\"Numbers using the pattern '\\d{2}':\\n\\n\", lstValues)"
   ]
  },
  {
   "cell_type": "code",
   "execution_count": 26,
   "metadata": {},
   "outputs": [
    {
     "name": "stdout",
     "output_type": "stream",
     "text": [
      "Numbers using the pattern '\\s\\d{2}\\s':\n",
      "\n",
      " [' 11 ', ' 89 ']\n"
     ]
    }
   ],
   "source": [
    "lstValues = re.findall(r\"\\s\\d{2}\\s\", address)\n",
    "print(\"Numbers using the pattern '\\s\\d{2}\\s':\\n\\n\", lstValues)"
   ]
  },
  {
   "cell_type": "code",
   "execution_count": 27,
   "metadata": {},
   "outputs": [
    {
     "name": "stdout",
     "output_type": "stream",
     "text": [
      "Numbers using the pattern '\\d{1,6}':\n",
      "\n",
      "  ['78', '11', '89', '4', '123', '5678', '560023', '67893']\n"
     ]
    }
   ],
   "source": [
    "lstValues = re.findall(r\"\\d{1,6}\", address)\n",
    "print(\"Numbers using the pattern '\\d{1,6}':\\n\\n \", lstValues)"
   ]
  },
  {
   "cell_type": "markdown",
   "metadata": {},
   "source": [
    "# Class Exercise"
   ]
  },
  {
   "cell_type": "code",
   "execution_count": 28,
   "metadata": {},
   "outputs": [],
   "source": [
    "import re\n",
    "\n",
    "s = '''\n",
    "<html>\n",
    "<head>\n",
    "<title>Current IP Address Allocations\n",
    "</title>\n",
    "</head>\n",
    "<body>\n",
    "IP Address are 172.45.78.109\n",
    "LoopBack Address: 127.0.0.1\n",
    "Computer 1: 10.67.89.101\n",
    "Computer 2: 11.67.98.102\n",
    "Computer 3: 12.68.98.102\n",
    "</body>\n",
    "</html>\n",
    "'''"
   ]
  },
  {
   "cell_type": "code",
   "execution_count": 31,
   "metadata": {},
   "outputs": [
    {
     "name": "stdout",
     "output_type": "stream",
     "text": [
      "IP Addresses:\n",
      "\n",
      " ['172.45.78.109', '127.0.0.1', '10.67.89.101', '11.67.98.102', '12.68.98.102']\n"
     ]
    }
   ],
   "source": [
    "# IP Address : 4 parts (octets)\n",
    "lstValues = re.findall(r\"\\d{1,3}\\.\\d{1,3}\\.\\d{1,3}\\.\\d{1,3}\", s)\n",
    "print(\"IP Addresses:\\n\\n\", lstValues)"
   ]
  },
  {
   "cell_type": "code",
   "execution_count": 33,
   "metadata": {},
   "outputs": [
    {
     "name": "stdout",
     "output_type": "stream",
     "text": [
      "IP Addresses:\n",
      "\n",
      " ['10.67.89.101']\n"
     ]
    }
   ],
   "source": [
    "lstValues = re.findall(r\"1[0]\\.\\d{1,3}\\.\\d{1,3}\\.\\d{1,3}\", s)\n",
    "print(\"IP Addresses:\\n\\n\", lstValues)"
   ]
  },
  {
   "cell_type": "code",
   "execution_count": 34,
   "metadata": {},
   "outputs": [],
   "source": [
    "import re\n",
    "empDetails = \"Hi I have a credit card with number 3775 123456 78910 and \" \\\n",
    "             \"other card is\" \\\n",
    "             \" 3545 456789 12345\"\n",
    "\n",
    "#http://www.getcreditcardnumbers.com\n",
    "\n",
    "# AMEX Card\n",
    "# Always Start with 3\n",
    "# Second Digit is either 4 or 7\n",
    "# <4 Digit> <6 Digit> <5 Digit>"
   ]
  },
  {
   "cell_type": "code",
   "execution_count": 35,
   "metadata": {},
   "outputs": [
    {
     "name": "stdout",
     "output_type": "stream",
     "text": [
      "['3775 123456 78910']\n"
     ]
    }
   ],
   "source": [
    "lstCard = re.findall(r\"3[4|7]\\d{2}\\s\\d{6}\\s\\d{5}\", empDetails)\n",
    "print(lstCard)"
   ]
  },
  {
   "cell_type": "markdown",
   "metadata": {},
   "source": [
    "#### Interview Question:"
   ]
  },
  {
   "cell_type": "code",
   "execution_count": 36,
   "metadata": {},
   "outputs": [],
   "source": [
    "import re\n",
    "sampleString = '''\n",
    "Rohit made 122 runs, Virat made 96 runs, and\n",
    "Dhawan made 46 runs and we won the match.\n",
    "'''"
   ]
  },
  {
   "cell_type": "code",
   "execution_count": 37,
   "metadata": {},
   "outputs": [],
   "source": [
    "# {\"Rohit\": 122, \"Virat\": 96, \"Dhawan\": 46}\n",
    "\n",
    "lstNames  = re.findall(r\"[A-Z][a-z]+\", sampleString)\n",
    "lstScores = re.findall(r\"\\d+\", sampleString)"
   ]
  },
  {
   "cell_type": "code",
   "execution_count": 38,
   "metadata": {},
   "outputs": [
    {
     "name": "stdout",
     "output_type": "stream",
     "text": [
      "Names :  ['Rohit', 'Virat', 'Dhawan']\n",
      "Scores:  ['122', '96', '46']\n"
     ]
    }
   ],
   "source": [
    "print(\"Names : \", lstNames)\n",
    "print(\"Scores: \", lstScores)"
   ]
  },
  {
   "cell_type": "code",
   "execution_count": 39,
   "metadata": {},
   "outputs": [
    {
     "name": "stdout",
     "output_type": "stream",
     "text": [
      "{'Rohit': '122', 'Virat': '96', 'Dhawan': '46'}\n"
     ]
    }
   ],
   "source": [
    "# Approach 1\n",
    "result = {}\n",
    "for item in range(3):\n",
    "    result[lstNames[item]] = lstScores[item]\n",
    "\n",
    "print(result)"
   ]
  },
  {
   "cell_type": "code",
   "execution_count": 40,
   "metadata": {},
   "outputs": [
    {
     "name": "stdout",
     "output_type": "stream",
     "text": [
      "{'Rohit': '122', 'Virat': '96', 'Dhawan': '46'}\n"
     ]
    }
   ],
   "source": [
    "# Approach 2 : Zip\n",
    "print(dict(zip(lstNames, lstScores)))"
   ]
  },
  {
   "cell_type": "markdown",
   "metadata": {},
   "source": [
    "### Match pattern but extract particular only"
   ]
  },
  {
   "cell_type": "code",
   "execution_count": 1,
   "metadata": {},
   "outputs": [
    {
     "name": "stdout",
     "output_type": "stream",
     "text": [
      "Find all matches for format Month day\n",
      "['June 24', 'August 9', 'Dec 12']\n"
     ]
    }
   ],
   "source": [
    "import re\n",
    "\n",
    "print(\"Find all matches for format Month day\")\n",
    "matches = re.findall(r\"[A-Z][a-z]+\\s\\d{1,2}\", \"These are the match dates June 24, August 9, Dec 12\")\n",
    "print(matches)\n",
    "\n",
    "#Here match is one entire string, so we will need to split it to get month and june"
   ]
  },
  {
   "cell_type": "code",
   "execution_count": 5,
   "metadata": {},
   "outputs": [
    {
     "name": "stdout",
     "output_type": "stream",
     "text": [
      "Months:  ['June', 'August', 'Dec']\n"
     ]
    }
   ],
   "source": [
    "#Match pattern but extract months only\n",
    "\n",
    "matches = re.findall(r\"([A-Z][a-z]+)\\s\\d{1,2}\", \"These are the match dates June 24, August 9, Dec 12, and Nov\")\n",
    "print(\"Months: \",matches)"
   ]
  },
  {
   "cell_type": "code",
   "execution_count": 6,
   "metadata": {},
   "outputs": [
    {
     "name": "stdout",
     "output_type": "stream",
     "text": [
      "Dates:  ['24', '9', '12']\n"
     ]
    }
   ],
   "source": [
    "matches = re.findall(r\"[A-Z][a-z]+\\s(\\d{1,2})\", \"These are the match dates June 24, August 9, Dec 12\")\n",
    "print(\"Dates: \",matches)"
   ]
  },
  {
   "cell_type": "code",
   "execution_count": 7,
   "metadata": {},
   "outputs": [
    {
     "name": "stdout",
     "output_type": "stream",
     "text": [
      "Month and date:  [('June', '24'), ('August', '9'), ('Dec', '12')]\n"
     ]
    }
   ],
   "source": [
    "matches = re.findall(r\"([A-Z][a-z]+)\\s(\\d{1,2})\", \"These are the match dates June 24, August 9, Dec 12\")\n",
    "print(\"Month and date: \",matches)\n",
    "\n",
    "# we got match of combination of month and date together so no need to use split"
   ]
  },
  {
   "cell_type": "code",
   "execution_count": 8,
   "metadata": {},
   "outputs": [],
   "source": [
    "import re\n",
    "\n",
    "s = \"purple alice@google.com abcde helloab@abc.com ---@gmail.com 23@gmail.com my23@gmail.com _@gmail.com\""
   ]
  },
  {
   "cell_type": "code",
   "execution_count": 9,
   "metadata": {},
   "outputs": [
    {
     "name": "stdout",
     "output_type": "stream",
     "text": [
      "['alice@google.com', 'helloab@abc.com', '23@gmail.com', 'my23@gmail.com', '_@gmail.com']\n"
     ]
    }
   ],
   "source": [
    "emails = re.findall(r\"\\w+@\\w+\\.\\w+\", s)\n",
    "print(emails)"
   ]
  },
  {
   "cell_type": "code",
   "execution_count": 10,
   "metadata": {},
   "outputs": [
    {
     "name": "stdout",
     "output_type": "stream",
     "text": [
      "['alice@google.com', 'helloab@abc.com', 'my23@gmail.com']\n"
     ]
    }
   ],
   "source": [
    "emails = re.findall(r\"[A-Za-z]\\w+@\\w+\\.\\w+\", s)\n",
    "print(emails)"
   ]
  },
  {
   "cell_type": "code",
   "execution_count": null,
   "metadata": {},
   "outputs": [],
   "source": [
    "# \\w => A-Za-z0-9_"
   ]
  }
 ],
 "metadata": {
  "kernelspec": {
   "display_name": "Python 3",
   "language": "python",
   "name": "python3"
  },
  "language_info": {
   "codemirror_mode": {
    "name": "ipython",
    "version": 3
   },
   "file_extension": ".py",
   "mimetype": "text/x-python",
   "name": "python",
   "nbconvert_exporter": "python",
   "pygments_lexer": "ipython3",
   "version": "3.7.6"
  }
 },
 "nbformat": 4,
 "nbformat_minor": 4
}
