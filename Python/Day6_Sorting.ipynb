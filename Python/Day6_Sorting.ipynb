{
 "cells": [
  {
   "cell_type": "markdown",
   "metadata": {},
   "source": [
    "# sorted()"
   ]
  },
  {
   "cell_type": "markdown",
   "metadata": {},
   "source": [
    "### 1. Non-inplace sorting\n",
    "\n",
    "- It won't modify the original list"
   ]
  },
  {
   "cell_type": "code",
   "execution_count": 1,
   "metadata": {},
   "outputs": [],
   "source": [
    "List = [29, 174, 20, 41, 49, 30, 10]\n",
    "\n",
    "sorted_list = sorted(List)"
   ]
  },
  {
   "cell_type": "code",
   "execution_count": 3,
   "metadata": {},
   "outputs": [
    {
     "name": "stdout",
     "output_type": "stream",
     "text": [
      "Original List :     [29, 174, 20, 41, 49, 30, 10]\n",
      "Sorted List   :     [10, 20, 29, 30, 41, 49, 174]\n",
      "Original List :     [29, 174, 20, 41, 49, 30, 10]\n"
     ]
    }
   ],
   "source": [
    "print(\"Original List :    \", List)\n",
    "print(\"Sorted List   :    \", sorted_list)\n",
    "print(\"Original List :    \", List)"
   ]
  },
  {
   "cell_type": "markdown",
   "metadata": {},
   "source": [
    "# sort()"
   ]
  },
  {
   "cell_type": "markdown",
   "metadata": {},
   "source": [
    "### 2. Inplace sorting\n",
    "\n",
    "- It will modify the original list"
   ]
  },
  {
   "cell_type": "code",
   "execution_count": 4,
   "metadata": {},
   "outputs": [],
   "source": [
    "List.sort()"
   ]
  },
  {
   "cell_type": "code",
   "execution_count": 5,
   "metadata": {},
   "outputs": [
    {
     "name": "stdout",
     "output_type": "stream",
     "text": [
      "Original List :     [10, 20, 29, 30, 41, 49, 174]\n"
     ]
    }
   ],
   "source": [
    "print(\"Original List :    \", List)"
   ]
  },
  {
   "cell_type": "markdown",
   "metadata": {},
   "source": [
    "# Reverse Sorting"
   ]
  },
  {
   "cell_type": "code",
   "execution_count": 6,
   "metadata": {},
   "outputs": [
    {
     "name": "stdout",
     "output_type": "stream",
     "text": [
      "Original List :     [29, 174, 20, 41, 49, 30, 10]\n",
      "Sorted List   :     [174, 49, 41, 30, 29, 20, 10]\n",
      "Original List :     [29, 174, 20, 41, 49, 30, 10]\n"
     ]
    }
   ],
   "source": [
    "# Non-Inplace sorting\n",
    "\n",
    "List = [29, 174, 20, 41, 49, 30, 10]\n",
    "\n",
    "sorted_list = sorted(List, reverse = True)\n",
    "\n",
    "print(\"Original List :    \", List)\n",
    "print(\"Sorted List   :    \", sorted_list)\n",
    "print(\"Original List :    \", List)"
   ]
  },
  {
   "cell_type": "code",
   "execution_count": 8,
   "metadata": {},
   "outputs": [
    {
     "name": "stdout",
     "output_type": "stream",
     "text": [
      "Original List :     [174, 49, 41, 30, 29, 20, 10]\n"
     ]
    }
   ],
   "source": [
    "# Inplace sorting\n",
    "\n",
    "List = [29, 174, 20, 41, 49, 30, 10]\n",
    "\n",
    "sorted_list = List.sort(reverse = True)\n",
    "\n",
    "print(\"Original List :    \", List)"
   ]
  },
  {
   "cell_type": "markdown",
   "metadata": {},
   "source": [
    "# Touple Sorting\n",
    "\n",
    "- Since touples are immutable, there's no INPLACE SORTING for touple."
   ]
  },
  {
   "cell_type": "code",
   "execution_count": 12,
   "metadata": {},
   "outputs": [
    {
     "name": "stdout",
     "output_type": "stream",
     "text": [
      "Original touple :     (29, 174, 20, 41, 49, 30, 10)\n",
      "\n",
      "Sorted List     :     [174, 49, 41, 30, 29, 20, 10]\n",
      "\n",
      "Original touple :     (29, 174, 20, 41, 49, 30, 10)\n",
      "\n",
      "Sorted touple   :     (174, 49, 41, 30, 29, 20, 10)\n"
     ]
    }
   ],
   "source": [
    "touple = (29, 174, 20, 41, 49, 30, 10)\n",
    "\n",
    "sorted_touple = sorted(touple, reverse = True)\n",
    "\n",
    "print(\"Original touple :    \", touple)\n",
    "print(\"\\nSorted List     :    \", sorted_touple)\n",
    "print(\"\\nOriginal touple :    \", touple)\n",
    "print(\"\\nSorted touple   :    \", tuple(sorted_touple))"
   ]
  },
  {
   "cell_type": "markdown",
   "metadata": {},
   "source": [
    "# Sorting Dictionary"
   ]
  },
  {
   "cell_type": "code",
   "execution_count": 14,
   "metadata": {},
   "outputs": [],
   "source": [
    "dictionary = {\"C\": 2, \"E\": 7, \"B\": 8, \"A\": 10, \"D\": 9}"
   ]
  },
  {
   "cell_type": "code",
   "execution_count": 20,
   "metadata": {},
   "outputs": [],
   "source": [
    "# Sorting the keys only\n",
    "sort_d = sorted(dictionary)\n",
    "\n",
    "# Sorting the values only\n",
    "sort_d_values = sorted(dictionary.values())"
   ]
  },
  {
   "cell_type": "code",
   "execution_count": 19,
   "metadata": {},
   "outputs": [
    {
     "name": "stdout",
     "output_type": "stream",
     "text": [
      "Original dictionary        :     {'C': 2, 'E': 7, 'B': 8, 'A': 10, 'D': 9}\n",
      "\n",
      "Sorted dictionary (Keys)   :     ['A', 'B', 'C', 'D', 'E']\n",
      "\n",
      "Sorted dictionary (Values) :     [2, 7, 8, 9, 10]\n"
     ]
    }
   ],
   "source": [
    "print(\"Original dictionary        :    \", dictionary)\n",
    "print(\"\\nSorted dictionary (Keys)   :    \", sort_d)\n",
    "print(\"\\nSorted dictionary (Values) :    \", sort_d_values)"
   ]
  },
  {
   "cell_type": "markdown",
   "metadata": {},
   "source": [
    "# Sorting - Keys"
   ]
  },
  {
   "cell_type": "code",
   "execution_count": 24,
   "metadata": {},
   "outputs": [],
   "source": [
    "# Non-INPLACE Sorting\n",
    "\n",
    "List = [29, -9, 174, 20, 41, -20, 49, 30, 10]\n",
    "\n",
    "sorted_list = sorted(List, key = abs)   \n",
    "\n",
    "# Here we are passing keys to tell interpreter that make comparision based on absolute values of the number.\n",
    "# We are not assigning the no.s the absolute values, so negative number will remain negative in output\n",
    "# the abs method is applied before the comparision"
   ]
  },
  {
   "cell_type": "code",
   "execution_count": 23,
   "metadata": {},
   "outputs": [
    {
     "name": "stdout",
     "output_type": "stream",
     "text": [
      "Original List :     [29, -9, 174, 20, 41, -20, 49, 30, 10]\n",
      "\n",
      "Sorted List   :     [-9, 10, 20, -20, 29, 30, 41, 49, 174]\n"
     ]
    }
   ],
   "source": [
    "print(\"Original List :    \", List)\n",
    "print(\"\\nSorted List   :    \", sorted_list)"
   ]
  },
  {
   "cell_type": "code",
   "execution_count": 25,
   "metadata": {},
   "outputs": [
    {
     "name": "stdout",
     "output_type": "stream",
     "text": [
      "Original List :     [-9, 10, 20, -20, 29, 30, 41, 49, 174]\n"
     ]
    }
   ],
   "source": [
    "# INPLACE Sorting\n",
    "\n",
    "List = [29, -9, 174, 20, 41, -20, 49, 30, 10]\n",
    "\n",
    "sorted_list = List.sort(key = abs)  \n",
    "\n",
    "print(\"Original List :    \", List)"
   ]
  },
  {
   "cell_type": "code",
   "execution_count": null,
   "metadata": {},
   "outputs": [],
   "source": []
  }
 ],
 "metadata": {
  "kernelspec": {
   "display_name": "Python 3",
   "language": "python",
   "name": "python3"
  },
  "language_info": {
   "codemirror_mode": {
    "name": "ipython",
    "version": 3
   },
   "file_extension": ".py",
   "mimetype": "text/x-python",
   "name": "python",
   "nbconvert_exporter": "python",
   "pygments_lexer": "ipython3",
   "version": "3.7.6"
  }
 },
 "nbformat": 4,
 "nbformat_minor": 4
}
