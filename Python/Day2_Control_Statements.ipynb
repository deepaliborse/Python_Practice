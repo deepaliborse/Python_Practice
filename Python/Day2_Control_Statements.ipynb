{
 "cells": [
  {
   "cell_type": "markdown",
   "metadata": {},
   "source": [
    "# Control Statements"
   ]
  },
  {
   "cell_type": "markdown",
   "metadata": {},
   "source": [
    "## User Input"
   ]
  },
  {
   "cell_type": "markdown",
   "metadata": {},
   "source": [
    "### 1.1 input()\n",
    "\n",
    "- Whatever input user gives, input always treat it as string"
   ]
  },
  {
   "cell_type": "code",
   "execution_count": 1,
   "metadata": {},
   "outputs": [
    {
     "name": "stdout",
     "output_type": "stream",
     "text": [
      "Enter Score100\n"
     ]
    }
   ],
   "source": [
    "score = input('Enter Score')"
   ]
  },
  {
   "cell_type": "code",
   "execution_count": 2,
   "metadata": {},
   "outputs": [
    {
     "data": {
      "text/plain": [
       "str"
      ]
     },
     "execution_count": 2,
     "metadata": {},
     "output_type": "execute_result"
    }
   ],
   "source": [
    "type(score)"
   ]
  },
  {
   "cell_type": "markdown",
   "metadata": {},
   "source": [
    "### 1.2 if / if-else / if-elif-else"
   ]
  },
  {
   "cell_type": "code",
   "execution_count": 10,
   "metadata": {},
   "outputs": [
    {
     "name": "stdout",
     "output_type": "stream",
     "text": [
      "Enter Number : -9\n"
     ]
    }
   ],
   "source": [
    "# run this but don't input any number \n",
    "\n",
    "number = input('Enter Number : ')"
   ]
  },
  {
   "cell_type": "code",
   "execution_count": 11,
   "metadata": {},
   "outputs": [],
   "source": [
    "# second run this\n",
    "\n",
    "number = int(number)"
   ]
  },
  {
   "cell_type": "code",
   "execution_count": 12,
   "metadata": {},
   "outputs": [
    {
     "name": "stdout",
     "output_type": "stream",
     "text": [
      "-9 <class 'int'>\n"
     ]
    }
   ],
   "source": [
    "# third, run this\n",
    "\n",
    "print(number, type(number))"
   ]
  },
  {
   "cell_type": "markdown",
   "metadata": {},
   "source": [
    "#### if-else statement:"
   ]
  },
  {
   "cell_type": "code",
   "execution_count": 16,
   "metadata": {},
   "outputs": [
    {
     "name": "stdout",
     "output_type": "stream",
     "text": [
      "Enter Number : 21\n",
      "Positive number\n"
     ]
    }
   ],
   "source": [
    "number = input('Enter Number : ')\n",
    "number = int(number)\n",
    "\n",
    "if number > 0:\n",
    "    print('Positive number')\n",
    "else:\n",
    "    print('Negative number')"
   ]
  },
  {
   "cell_type": "markdown",
   "metadata": {},
   "source": [
    "#### if-elif-else statement"
   ]
  },
  {
   "cell_type": "code",
   "execution_count": 17,
   "metadata": {},
   "outputs": [
    {
     "name": "stdout",
     "output_type": "stream",
     "text": [
      "Enter Number : 0\n",
      "User has entered zero\n"
     ]
    }
   ],
   "source": [
    "number = input('Enter Number : ')\n",
    "number = int(number)\n",
    "\n",
    "if number > 0:\n",
    "    print('User has entered Positive number')\n",
    "    \n",
    "elif number == 0:\n",
    "    print('User has entered zero')\n",
    "    \n",
    "else:\n",
    "    print('User has entered Negative number')"
   ]
  },
  {
   "cell_type": "markdown",
   "metadata": {},
   "source": [
    "# Class Excercise"
   ]
  },
  {
   "cell_type": "markdown",
   "metadata": {},
   "source": [
    "- Write a prg to calculate bmi - body mass index (bmi = weight / height ^ 2).\n",
    "- if bmi <= 18.5 print \"Underweight\"\n",
    "- if bmi <= 25.0 print \"Normal\"\n",
    "- if bmi <= 30.0 print \"Overweight\"\n",
    "- if bmi > 30 print \"Obese\"\n",
    "- Take inputs => 1. Weight, 2. Height\n",
    "- Formulae: bmi = weight / height ** 2"
   ]
  },
  {
   "cell_type": "code",
   "execution_count": 28,
   "metadata": {},
   "outputs": [
    {
     "name": "stdout",
     "output_type": "stream",
     "text": [
      "Enter the weight: 12\n",
      "Enter the height: 100\n",
      "underweight\n"
     ]
    }
   ],
   "source": [
    "weight = float(input(\"Enter the weight: \"))\n",
    "# Weight in kg\n",
    "\n",
    "height = float(input(\"Enter the height: \"))\n",
    "# Height in cm\n",
    "\n",
    "\n",
    "bmi = weight / (height/100)**2\n",
    "\n",
    "if bmi <= 18.5:\n",
    "    print(\"underweight\")\n",
    "\n",
    "elif bmi <= 25.0:\n",
    "    print(\"Normal\")\n",
    "\n",
    "elif bmi <= 30.0:\n",
    "    print(\"Overweight\")\n",
    "\n",
    "else:\n",
    "    print(\"Obese\")"
   ]
  },
  {
   "cell_type": "markdown",
   "metadata": {},
   "source": [
    "### 1.3 : For + Range "
   ]
  },
  {
   "cell_type": "code",
   "execution_count": 31,
   "metadata": {},
   "outputs": [
    {
     "data": {
      "text/plain": [
       "range(5, 50, 5)"
      ]
     },
     "execution_count": 31,
     "metadata": {},
     "output_type": "execute_result"
    }
   ],
   "source": [
    "r = range(5,50,5)\n",
    "r"
   ]
  },
  {
   "cell_type": "code",
   "execution_count": 32,
   "metadata": {},
   "outputs": [
    {
     "data": {
      "text/plain": [
       "[5, 10, 15, 20, 25, 30, 35, 40, 45]"
      ]
     },
     "execution_count": 32,
     "metadata": {},
     "output_type": "execute_result"
    }
   ],
   "source": [
    "list(r)"
   ]
  },
  {
   "cell_type": "code",
   "execution_count": 33,
   "metadata": {},
   "outputs": [
    {
     "name": "stdout",
     "output_type": "stream",
     "text": [
      "5\n",
      "10\n",
      "15\n",
      "20\n",
      "25\n",
      "30\n",
      "35\n",
      "40\n",
      "45\n"
     ]
    }
   ],
   "source": [
    "for i in r:\n",
    "    print(i)"
   ]
  },
  {
   "cell_type": "markdown",
   "metadata": {},
   "source": [
    "### 1.4: while"
   ]
  },
  {
   "cell_type": "code",
   "execution_count": 34,
   "metadata": {},
   "outputs": [
    {
     "name": "stdout",
     "output_type": "stream",
     "text": [
      "1\n",
      "2\n",
      "3\n",
      "4\n",
      "5\n",
      "6\n",
      "7\n",
      "8\n",
      "9\n",
      "10\n"
     ]
    }
   ],
   "source": [
    "index = 1  #Initializing index \n",
    "while index <= 10:   #Condition\n",
    "    print(index)\n",
    "    index += 1 # index = index + 1"
   ]
  },
  {
   "cell_type": "markdown",
   "metadata": {},
   "source": [
    "### 1.5 For + List "
   ]
  },
  {
   "cell_type": "code",
   "execution_count": 35,
   "metadata": {},
   "outputs": [],
   "source": [
    "website = ['amzon', 'plush', 'flipkart', 'myntra']"
   ]
  },
  {
   "cell_type": "code",
   "execution_count": 36,
   "metadata": {},
   "outputs": [
    {
     "name": "stdout",
     "output_type": "stream",
     "text": [
      "www.amzon.com\n",
      "www.plush.com\n",
      "www.flipkart.com\n",
      "www.myntra.com\n"
     ]
    }
   ],
   "source": [
    "for i in website:\n",
    "    print('www.' + i + '.com')"
   ]
  },
  {
   "cell_type": "code",
   "execution_count": 37,
   "metadata": {},
   "outputs": [
    {
     "name": "stdout",
     "output_type": "stream",
     "text": [
      "www.amzon.com\n",
      "www.plush.com\n",
      "www.flipkart.com\n",
      "www.myntra.com\n"
     ]
    }
   ],
   "source": [
    "for i in website:\n",
    "    print('www.{}.com'.format(i))"
   ]
  },
  {
   "cell_type": "markdown",
   "metadata": {},
   "source": [
    "### Nested for loop"
   ]
  },
  {
   "cell_type": "code",
   "execution_count": 43,
   "metadata": {},
   "outputs": [],
   "source": [
    "website = ['amzon', 'plushforher', 'flipkart', 'myntra']\n",
    "extension = ['com', 'org', 'in']"
   ]
  },
  {
   "cell_type": "code",
   "execution_count": 44,
   "metadata": {},
   "outputs": [
    {
     "name": "stdout",
     "output_type": "stream",
     "text": [
      "www.amzon.com\n",
      "www.amzon.org\n",
      "www.amzon.in\n",
      "www.plushforher.com\n",
      "www.plushforher.org\n",
      "www.plushforher.in\n",
      "www.flipkart.com\n",
      "www.flipkart.org\n",
      "www.flipkart.in\n",
      "www.myntra.com\n",
      "www.myntra.org\n",
      "www.myntra.in\n"
     ]
    }
   ],
   "source": [
    "for i in website:\n",
    "    for j in extension:\n",
    "        print('www.' + i + '.' + j)"
   ]
  },
  {
   "cell_type": "code",
   "execution_count": 45,
   "metadata": {},
   "outputs": [
    {
     "name": "stdout",
     "output_type": "stream",
     "text": [
      "www.amzon.com\n",
      "www.amzon.org\n",
      "www.amzon.in\n",
      "www.plushforher.com\n",
      "www.plushforher.org\n",
      "www.plushforher.in\n",
      "www.flipkart.com\n",
      "www.flipkart.org\n",
      "www.flipkart.in\n",
      "www.myntra.com\n",
      "www.myntra.org\n",
      "www.myntra.in\n"
     ]
    }
   ],
   "source": [
    "for i in website:\n",
    "    for j in extension:\n",
    "        print('www.{}.{}'.format(i,j))"
   ]
  },
  {
   "cell_type": "markdown",
   "metadata": {},
   "source": [
    "### For + Dictionary"
   ]
  },
  {
   "cell_type": "code",
   "execution_count": 46,
   "metadata": {},
   "outputs": [
    {
     "data": {
      "text/plain": [
       "{'Roll_no': [1, 2, 3],\n",
       " 'Name': ['Deepali', 'Anushka', 'Rushi'],\n",
       " 'City': ['Nashik', 'Nashik', 'Pune']}"
      ]
     },
     "execution_count": 46,
     "metadata": {},
     "output_type": "execute_result"
    }
   ],
   "source": [
    "Catelog = {'Roll_no' : [1,2,3], 'Name': ['Deepali', 'Anushka', 'Rushi'], 'City': ['Nashik', \"Nashik\", 'Pune']}\n",
    "Catelog"
   ]
  },
  {
   "cell_type": "code",
   "execution_count": 49,
   "metadata": {},
   "outputs": [
    {
     "data": {
      "text/plain": [
       "dict_keys(['Roll_no', 'Name', 'City'])"
      ]
     },
     "execution_count": 49,
     "metadata": {},
     "output_type": "execute_result"
    }
   ],
   "source": [
    "Catelog.keys()"
   ]
  },
  {
   "cell_type": "code",
   "execution_count": 48,
   "metadata": {},
   "outputs": [
    {
     "name": "stdout",
     "output_type": "stream",
     "text": [
      "Roll_no\n",
      "Name\n",
      "City\n"
     ]
    }
   ],
   "source": [
    "# Iterate through keys\n",
    "\n",
    "for i in Catelog:\n",
    "    print(i)"
   ]
  },
  {
   "cell_type": "code",
   "execution_count": 50,
   "metadata": {},
   "outputs": [
    {
     "name": "stdout",
     "output_type": "stream",
     "text": [
      "[1, 2, 3]\n",
      "['Deepali', 'Anushka', 'Rushi']\n",
      "['Nashik', 'Nashik', 'Pune']\n"
     ]
    }
   ],
   "source": [
    "# Iterate through values\n",
    "\n",
    "for i in Catelog.values():\n",
    "    print(i)"
   ]
  },
  {
   "cell_type": "code",
   "execution_count": 52,
   "metadata": {},
   "outputs": [
    {
     "name": "stdout",
     "output_type": "stream",
     "text": [
      "Roll_no [1, 2, 3]\n",
      "Name ['Deepali', 'Anushka', 'Rushi']\n",
      "City ['Nashik', 'Nashik', 'Pune']\n"
     ]
    }
   ],
   "source": [
    "# Iterate through key and values\n",
    "\n",
    "# i = key\n",
    "# j = values\n",
    "\n",
    "for i,j in Catelog.items():\n",
    "    print(i,j)"
   ]
  },
  {
   "cell_type": "markdown",
   "metadata": {},
   "source": [
    "### Break"
   ]
  },
  {
   "cell_type": "code",
   "execution_count": 53,
   "metadata": {},
   "outputs": [
    {
     "name": "stdout",
     "output_type": "stream",
     "text": [
      "1\n",
      "2\n",
      "3\n",
      "4\n",
      "5\n"
     ]
    }
   ],
   "source": [
    "for i in range(1,10):\n",
    "    print(i)\n",
    "    if i == 5:\n",
    "        break"
   ]
  },
  {
   "cell_type": "markdown",
   "metadata": {},
   "source": [
    "### Continue\n",
    "\n",
    "- ignore the current statement and jump to next "
   ]
  },
  {
   "cell_type": "code",
   "execution_count": 58,
   "metadata": {},
   "outputs": [
    {
     "name": "stdout",
     "output_type": "stream",
     "text": [
      "1 3 5 7 9 11 13 15 17 19 "
     ]
    }
   ],
   "source": [
    "# Printing odd numbers\n",
    "\n",
    "for i in range(1,20):\n",
    "    if(i % 2 == 0):\n",
    "        continue\n",
    "    print(i, end = ' ')  # printing elements on same line"
   ]
  },
  {
   "cell_type": "code",
   "execution_count": 62,
   "metadata": {},
   "outputs": [
    {
     "name": "stdout",
     "output_type": "stream",
     "text": [
      "2 4 6 8 10 12 14 16 18 "
     ]
    }
   ],
   "source": [
    "# Printing even numbers\n",
    "\n",
    "for i in range(1,20):\n",
    "    if(i % 2 != 0):\n",
    "        continue\n",
    "    print(i, end = ' ')  # printing elements on same line"
   ]
  },
  {
   "cell_type": "markdown",
   "metadata": {},
   "source": [
    "#### if (i % 2 == False)"
   ]
  },
  {
   "cell_type": "code",
   "execution_count": 63,
   "metadata": {},
   "outputs": [
    {
     "name": "stdout",
     "output_type": "stream",
     "text": [
      "1 3 5 7 9 11 13 15 17 19 "
     ]
    }
   ],
   "source": [
    "# Printing odd numbers using boolean variable (since bool is derived from int)\n",
    "\n",
    "for i in range(1,20):\n",
    "    if(i % 2 == False):\n",
    "        continue\n",
    "    print(i, end = ' ')  # printing elements on same line"
   ]
  },
  {
   "cell_type": "markdown",
   "metadata": {},
   "source": [
    "### Pass\n",
    "\n",
    "- Syntax killer / filler\n",
    "- when (if you don't write anything in loop/statements, and you want to avid syntax error)"
   ]
  },
  {
   "cell_type": "code",
   "execution_count": 61,
   "metadata": {},
   "outputs": [],
   "source": [
    "for i in range(1,10):\n",
    "    pass"
   ]
  },
  {
   "cell_type": "code",
   "execution_count": 65,
   "metadata": {},
   "outputs": [],
   "source": [
    "# only for loop will give error"
   ]
  },
  {
   "cell_type": "markdown",
   "metadata": {},
   "source": [
    "# Excercise"
   ]
  },
  {
   "cell_type": "markdown",
   "metadata": {},
   "source": [
    "### Write a program to take five numbers from the user and print the largest number"
   ]
  },
  {
   "cell_type": "markdown",
   "metadata": {},
   "source": [
    "### Take input from the user and print the reverse of a number \n",
    "- Input: 123\n",
    "- Output: 321"
   ]
  },
  {
   "cell_type": "code",
   "execution_count": 74,
   "metadata": {},
   "outputs": [
    {
     "name": "stdout",
     "output_type": "stream",
     "text": [
      "Enter number: 987654321\n"
     ]
    }
   ],
   "source": [
    "number = int(input('Enter number: '))"
   ]
  },
  {
   "cell_type": "code",
   "execution_count": 75,
   "metadata": {},
   "outputs": [
    {
     "name": "stdout",
     "output_type": "stream",
     "text": [
      "The reverse number is : 123456789\n"
     ]
    }
   ],
   "source": [
    "revs_number = 0  \n",
    "while (number > 0):  \n",
    "    \n",
    "    remainder = number % 10   # digit seperation\n",
    "    \n",
    "    revs_number = (revs_number * 10) + remainder  \n",
    "    \n",
    "    number = number // 10  \n",
    "    \n",
    "print(\"The reverse number is : {}\".format(revs_number))  "
   ]
  },
  {
   "cell_type": "markdown",
   "metadata": {},
   "source": [
    "### Write a program to get the sum of all elements in the list\n",
    "- numbers = [11, 22, 33, 44, 55, 66, 77, 88, 99]"
   ]
  },
  {
   "cell_type": "code",
   "execution_count": 76,
   "metadata": {},
   "outputs": [],
   "source": [
    "numbers = [11, 22, 33, 44, 55, 66, 77, 88, 99]"
   ]
  },
  {
   "cell_type": "code",
   "execution_count": 79,
   "metadata": {},
   "outputs": [
    {
     "name": "stdout",
     "output_type": "stream",
     "text": [
      "495\n"
     ]
    }
   ],
   "source": [
    "sumation = 0\n",
    "for i in numbers:\n",
    "    sumation = sumation + i\n",
    "print(sumation)"
   ]
  },
  {
   "cell_type": "markdown",
   "metadata": {},
   "source": [
    "### Write a program to take five numbers from the user and print the largest number"
   ]
  },
  {
   "cell_type": "code",
   "execution_count": 92,
   "metadata": {},
   "outputs": [
    {
     "name": "stdout",
     "output_type": "stream",
     "text": [
      "Enter number of elements in list: 3\n",
      "Enter number: 1\n",
      "Enter number: 7\n",
      "Enter number: 4\n",
      "Largest number is 7\n"
     ]
    }
   ],
   "source": [
    "numlist = []\n",
    "\n",
    "num = int(input('Enter number of elements in list: '))\n",
    "\n",
    "for i in range(1, num+1):\n",
    "    element = int(input('Enter number: '))\n",
    "    numlist.append(element)\n",
    "    numlist.sort()\n",
    "    \n",
    "print('Largest number is {}'.format(numlist[-1]))"
   ]
  }
 ],
 "metadata": {
  "kernelspec": {
   "display_name": "Python 3",
   "language": "python",
   "name": "python3"
  },
  "language_info": {
   "codemirror_mode": {
    "name": "ipython",
    "version": 3
   },
   "file_extension": ".py",
   "mimetype": "text/x-python",
   "name": "python",
   "nbconvert_exporter": "python",
   "pygments_lexer": "ipython3",
   "version": "3.7.6"
  }
 },
 "nbformat": 4,
 "nbformat_minor": 4
}
