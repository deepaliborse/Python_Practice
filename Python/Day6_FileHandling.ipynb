{
 "cells": [
  {
   "cell_type": "markdown",
   "metadata": {},
   "source": [
    "# File Handling\n",
    "\n",
    "- **w**  -> Write mode\n",
    "- **r**  -> Read mode (Default mode of file)\n",
    "- **a**  -> Append mode\n",
    "- **wb** -> Write + Binary\n",
    "- **rb** -> Read + Binary"
   ]
  },
  {
   "cell_type": "code",
   "execution_count": 3,
   "metadata": {},
   "outputs": [],
   "source": [
    "fh = open('C:\\\\Users\\\\WIN 10\\\\Desktop\\\\ExcelR\\Python\\\\Python_For_DS\\\\FileExample.txt', 'w')"
   ]
  },
  {
   "cell_type": "code",
   "execution_count": 5,
   "metadata": {},
   "outputs": [
    {
     "name": "stdout",
     "output_type": "stream",
     "text": [
      "fh object      :  <_io.TextIOWrapper name='C:\\\\Users\\\\WIN 10\\\\Desktop\\\\ExcelR\\\\Python\\\\Python_For_DS\\\\FileExample.txt' mode='w' encoding='cp1252'>\n",
      "\n",
      "Type of object :  <class '_io.TextIOWrapper'>\n"
     ]
    }
   ],
   "source": [
    "print('fh object      : ', fh)\n",
    "print('\\nType of object : ', type(fh))"
   ]
  },
  {
   "cell_type": "code",
   "execution_count": 6,
   "metadata": {},
   "outputs": [
    {
     "data": {
      "text/plain": [
       "39"
      ]
     },
     "execution_count": 6,
     "metadata": {},
     "output_type": "execute_result"
    }
   ],
   "source": [
    "fh.write('Welcome to python file handling. \\n')\n",
    "fh.write('This is second line. \\n')\n",
    "fh.write('Always close the file once job is done.')"
   ]
  },
  {
   "cell_type": "code",
   "execution_count": 8,
   "metadata": {},
   "outputs": [],
   "source": [
    "fh.close()\n",
    "\n",
    "\n",
    "# You won't be able to see the file content (newly written / updated) if you don't close the file.\n",
    "# Only after closing file, you can see the file content.\n",
    "# There'll be memory issues due to many opeations happening during code, so it's always advisable to close file once you are finished \n",
    "\n",
    "# If you copy paste anything in text, and open it again, the whole new content will get errased ond only information written \n",
    "# using write function will be there in file"
   ]
  },
  {
   "cell_type": "markdown",
   "metadata": {},
   "source": [
    "### Printing file content"
   ]
  },
  {
   "cell_type": "code",
   "execution_count": 9,
   "metadata": {},
   "outputs": [],
   "source": [
    "fh = open('C:\\\\Users\\\\WIN 10\\\\Desktop\\\\ExcelR\\Python\\\\Python_For_DS\\\\FileExample.txt')"
   ]
  },
  {
   "cell_type": "code",
   "execution_count": 10,
   "metadata": {},
   "outputs": [],
   "source": [
    "strContent = fh.read()"
   ]
  },
  {
   "cell_type": "code",
   "execution_count": 11,
   "metadata": {},
   "outputs": [
    {
     "name": "stdout",
     "output_type": "stream",
     "text": [
      "File contents: \n",
      "\n",
      " Welcome to python file handling. \n",
      "This is second line. \n",
      "Always close the file once job is done.\n"
     ]
    }
   ],
   "source": [
    "print('File contents: \\n\\n', strContent)"
   ]
  },
  {
   "cell_type": "markdown",
   "metadata": {},
   "source": [
    "# File Handling: With operator"
   ]
  },
  {
   "cell_type": "code",
   "execution_count": 12,
   "metadata": {},
   "outputs": [
    {
     "name": "stdout",
     "output_type": "stream",
     "text": [
      "Welcome to python file handling. \n",
      "This is second line. \n",
      "Always close the file once job is done.\n"
     ]
    }
   ],
   "source": [
    "with open('C:\\\\Users\\\\WIN 10\\\\Desktop\\\\ExcelR\\Python\\\\Python_For_DS\\\\FileExample.txt') as fh:\n",
    "    content = fh.read()\n",
    "    print(content)"
   ]
  },
  {
   "cell_type": "code",
   "execution_count": 13,
   "metadata": {},
   "outputs": [],
   "source": [
    "# No need to call fh.close()\n",
    "# with operator will automatically call the fh.close() once the job is done."
   ]
  },
  {
   "cell_type": "markdown",
   "metadata": {},
   "source": [
    "# Pickle"
   ]
  },
  {
   "cell_type": "code",
   "execution_count": 34,
   "metadata": {},
   "outputs": [],
   "source": [
    "vaccine_details = { 'Karnataka' : {'Covidshield' : 5, 'Covaxin' : 2, 'Sputnik' : 1, 'User' : ['18','45']},\n",
    "                    'Delhi' : {'Covidshield' : 15, 'Covaxin' : 12, 'Sputnik' : 0, 'User' : ['45']},\n",
    "                    'Maharashtra':{'Covidshield' : 10, 'Covaxin' : 5, 'Sputnik' : 3}}"
   ]
  },
  {
   "cell_type": "code",
   "execution_count": 18,
   "metadata": {},
   "outputs": [],
   "source": [
    "# Now we want to create a file, which when we open again will be in the original form as we created above, i.e. Dictionary.\n",
    "# When we write content to the file, the interpreter treats it as string. \n",
    "# So here we will use binary file operations, and will ask pickle to do read & writing"
   ]
  },
  {
   "cell_type": "markdown",
   "metadata": {},
   "source": [
    "### Writing to the file"
   ]
  },
  {
   "cell_type": "code",
   "execution_count": 23,
   "metadata": {},
   "outputs": [],
   "source": [
    "fh = open('C:\\\\Users\\\\WIN 10\\\\Desktop\\\\ExcelR\\Python\\\\Python_For_DS\\\\vd_states', 'wb')"
   ]
  },
  {
   "cell_type": "code",
   "execution_count": 24,
   "metadata": {},
   "outputs": [],
   "source": [
    "import pickle"
   ]
  },
  {
   "cell_type": "code",
   "execution_count": 25,
   "metadata": {},
   "outputs": [],
   "source": [
    "pickle.dump(vaccine_details, fh)    # Writing to the file"
   ]
  },
  {
   "cell_type": "code",
   "execution_count": 26,
   "metadata": {},
   "outputs": [],
   "source": [
    "fh.close()"
   ]
  },
  {
   "cell_type": "markdown",
   "metadata": {},
   "source": [
    "### Reading from the file"
   ]
  },
  {
   "cell_type": "code",
   "execution_count": 29,
   "metadata": {},
   "outputs": [],
   "source": [
    "fh = open('C:\\\\Users\\\\WIN 10\\\\Desktop\\\\ExcelR\\Python\\\\Python_For_DS\\\\vd_states', 'rb')"
   ]
  },
  {
   "cell_type": "code",
   "execution_count": 30,
   "metadata": {},
   "outputs": [],
   "source": [
    "content = pickle.load(fh)"
   ]
  },
  {
   "cell_type": "code",
   "execution_count": 31,
   "metadata": {},
   "outputs": [
    {
     "name": "stdout",
     "output_type": "stream",
     "text": [
      "{'Karnataka': {'Covidshield': 5, 'Covaxin': 2, 'Sputnik': 1, 'User': ['18', '45']}, 'Delhi': {'Covidshield': 15, 'Covaxin': 12, 'Sputnik': 0, 'User': ['45']}, 'Maharashtra': {'Covidshield': 10, 'Covaxin': 5, 'Sputnik': 3}}\n"
     ]
    }
   ],
   "source": [
    "print(content)"
   ]
  },
  {
   "cell_type": "code",
   "execution_count": 32,
   "metadata": {},
   "outputs": [
    {
     "name": "stdout",
     "output_type": "stream",
     "text": [
      "<class 'dict'>\n"
     ]
    }
   ],
   "source": [
    "print(type(content))"
   ]
  },
  {
   "cell_type": "code",
   "execution_count": null,
   "metadata": {},
   "outputs": [],
   "source": [
    "# Also called as:\n",
    "\n",
    "# Marshal - Unmarshal\n",
    "# COM - DCOM\n",
    "# Serialization - Deserialization"
   ]
  },
  {
   "cell_type": "markdown",
   "metadata": {},
   "source": [
    "**Classes** : Pickler, Unpickler"
   ]
  },
  {
   "cell_type": "markdown",
   "metadata": {},
   "source": [
    "**Functions** :\n",
    "1. dump(object, file)\n",
    "2. dump(object)        -> String\n",
    "3. load(file)          -> Object\n",
    "4. load(bytes)         -> Object"
   ]
  },
  {
   "cell_type": "code",
   "execution_count": null,
   "metadata": {},
   "outputs": [],
   "source": []
  }
 ],
 "metadata": {
  "kernelspec": {
   "display_name": "Python 3",
   "language": "python",
   "name": "python3"
  },
  "language_info": {
   "codemirror_mode": {
    "name": "ipython",
    "version": 3
   },
   "file_extension": ".py",
   "mimetype": "text/x-python",
   "name": "python",
   "nbconvert_exporter": "python",
   "pygments_lexer": "ipython3",
   "version": "3.7.6"
  }
 },
 "nbformat": 4,
 "nbformat_minor": 4
}
