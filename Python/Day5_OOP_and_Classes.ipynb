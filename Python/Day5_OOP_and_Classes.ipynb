{
 "cells": [
  {
   "cell_type": "markdown",
   "metadata": {},
   "source": [
    "# Object Oriented Programming\n",
    "\n",
    "* Class\n",
    "* Object (Instance)\n",
    "* Class is like a Template/Blueprint/Mould/Defination\n",
    "* Object is instance of class\n",
    "* Class - behavior, blue print, template, user defined data structure\n",
    "* Encapsulation, inheritance, poly, abstraction\n",
    "* State and Behavior\n",
    "* Bundling"
   ]
  },
  {
   "cell_type": "code",
   "execution_count": 1,
   "metadata": {},
   "outputs": [],
   "source": [
    "for i in range(1,5):\n",
    "    pass"
   ]
  },
  {
   "cell_type": "code",
   "execution_count": 2,
   "metadata": {},
   "outputs": [],
   "source": [
    "# pass : does nothing, it's just a syntax filler, doesn't concern with logic of funnction/loop"
   ]
  },
  {
   "cell_type": "code",
   "execution_count": 3,
   "metadata": {},
   "outputs": [],
   "source": [
    "class Employee:\n",
    "    pass"
   ]
  },
  {
   "cell_type": "code",
   "execution_count": 4,
   "metadata": {},
   "outputs": [],
   "source": [
    "# Creating objects of Employee class:\n",
    "\n",
    "\n",
    "e1 = Employee()\n",
    "e2 = Employee()"
   ]
  },
  {
   "cell_type": "code",
   "execution_count": 5,
   "metadata": {},
   "outputs": [
    {
     "name": "stdout",
     "output_type": "stream",
     "text": [
      "Type of e1:  <class '__main__.Employee'>\n",
      "Type of e2:  <class '__main__.Employee'>\n"
     ]
    }
   ],
   "source": [
    "print('Type of e1: ',type(e1))\n",
    "print('Type of e2: ',type(e2))"
   ]
  },
  {
   "cell_type": "code",
   "execution_count": 6,
   "metadata": {},
   "outputs": [
    {
     "name": "stdout",
     "output_type": "stream",
     "text": [
      "ID of e1:  2409528943496\n",
      "ID of e2:  2409528944456\n"
     ]
    }
   ],
   "source": [
    "# Adresses of object\n",
    "\n",
    "print('ID of e1: ',id(e1))\n",
    "print('ID of e2: ',id(e2))"
   ]
  },
  {
   "cell_type": "code",
   "execution_count": 7,
   "metadata": {},
   "outputs": [
    {
     "name": "stdout",
     "output_type": "stream",
     "text": [
      "<class 'int'>\n"
     ]
    }
   ],
   "source": [
    "# inbuilt int class\n",
    "\n",
    "i = 10\n",
    "print(type(i))"
   ]
  },
  {
   "cell_type": "code",
   "execution_count": 8,
   "metadata": {},
   "outputs": [
    {
     "name": "stdout",
     "output_type": "stream",
     "text": [
      "<class 'str'>\n"
     ]
    }
   ],
   "source": [
    "# inbuilt string class\n",
    "# 'i' is an object of string class\n",
    "\n",
    "i = \"Hello\"\n",
    "print(type(i))"
   ]
  },
  {
   "cell_type": "code",
   "execution_count": 9,
   "metadata": {},
   "outputs": [],
   "source": [
    "# Documentation for class Employee:\n",
    "#__doc__ in Employee class dictionary\n",
    "\n",
    "class Employee:\n",
    "    '''\n",
    "    Help: An Employee class documentation\n",
    "    The instance of class can be used to create and manage Employee data\n",
    "    It stores info like, name, address, education details etc\n",
    "    \n",
    "    '''"
   ]
  },
  {
   "cell_type": "code",
   "execution_count": 10,
   "metadata": {},
   "outputs": [
    {
     "name": "stdout",
     "output_type": "stream",
     "text": [
      "Help on class list in module builtins:\n",
      "\n",
      "class list(object)\n",
      " |  list(iterable=(), /)\n",
      " |  \n",
      " |  Built-in mutable sequence.\n",
      " |  \n",
      " |  If no argument is given, the constructor creates a new empty list.\n",
      " |  The argument must be an iterable if specified.\n",
      " |  \n",
      " |  Methods defined here:\n",
      " |  \n",
      " |  __add__(self, value, /)\n",
      " |      Return self+value.\n",
      " |  \n",
      " |  __contains__(self, key, /)\n",
      " |      Return key in self.\n",
      " |  \n",
      " |  __delitem__(self, key, /)\n",
      " |      Delete self[key].\n",
      " |  \n",
      " |  __eq__(self, value, /)\n",
      " |      Return self==value.\n",
      " |  \n",
      " |  __ge__(self, value, /)\n",
      " |      Return self>=value.\n",
      " |  \n",
      " |  __getattribute__(self, name, /)\n",
      " |      Return getattr(self, name).\n",
      " |  \n",
      " |  __getitem__(...)\n",
      " |      x.__getitem__(y) <==> x[y]\n",
      " |  \n",
      " |  __gt__(self, value, /)\n",
      " |      Return self>value.\n",
      " |  \n",
      " |  __iadd__(self, value, /)\n",
      " |      Implement self+=value.\n",
      " |  \n",
      " |  __imul__(self, value, /)\n",
      " |      Implement self*=value.\n",
      " |  \n",
      " |  __init__(self, /, *args, **kwargs)\n",
      " |      Initialize self.  See help(type(self)) for accurate signature.\n",
      " |  \n",
      " |  __iter__(self, /)\n",
      " |      Implement iter(self).\n",
      " |  \n",
      " |  __le__(self, value, /)\n",
      " |      Return self<=value.\n",
      " |  \n",
      " |  __len__(self, /)\n",
      " |      Return len(self).\n",
      " |  \n",
      " |  __lt__(self, value, /)\n",
      " |      Return self<value.\n",
      " |  \n",
      " |  __mul__(self, value, /)\n",
      " |      Return self*value.\n",
      " |  \n",
      " |  __ne__(self, value, /)\n",
      " |      Return self!=value.\n",
      " |  \n",
      " |  __repr__(self, /)\n",
      " |      Return repr(self).\n",
      " |  \n",
      " |  __reversed__(self, /)\n",
      " |      Return a reverse iterator over the list.\n",
      " |  \n",
      " |  __rmul__(self, value, /)\n",
      " |      Return value*self.\n",
      " |  \n",
      " |  __setitem__(self, key, value, /)\n",
      " |      Set self[key] to value.\n",
      " |  \n",
      " |  __sizeof__(self, /)\n",
      " |      Return the size of the list in memory, in bytes.\n",
      " |  \n",
      " |  append(self, object, /)\n",
      " |      Append object to the end of the list.\n",
      " |  \n",
      " |  clear(self, /)\n",
      " |      Remove all items from list.\n",
      " |  \n",
      " |  copy(self, /)\n",
      " |      Return a shallow copy of the list.\n",
      " |  \n",
      " |  count(self, value, /)\n",
      " |      Return number of occurrences of value.\n",
      " |  \n",
      " |  extend(self, iterable, /)\n",
      " |      Extend list by appending elements from the iterable.\n",
      " |  \n",
      " |  index(self, value, start=0, stop=9223372036854775807, /)\n",
      " |      Return first index of value.\n",
      " |      \n",
      " |      Raises ValueError if the value is not present.\n",
      " |  \n",
      " |  insert(self, index, object, /)\n",
      " |      Insert object before index.\n",
      " |  \n",
      " |  pop(self, index=-1, /)\n",
      " |      Remove and return item at index (default last).\n",
      " |      \n",
      " |      Raises IndexError if list is empty or index is out of range.\n",
      " |  \n",
      " |  remove(self, value, /)\n",
      " |      Remove first occurrence of value.\n",
      " |      \n",
      " |      Raises ValueError if the value is not present.\n",
      " |  \n",
      " |  reverse(self, /)\n",
      " |      Reverse *IN PLACE*.\n",
      " |  \n",
      " |  sort(self, /, *, key=None, reverse=False)\n",
      " |      Stable sort *IN PLACE*.\n",
      " |  \n",
      " |  ----------------------------------------------------------------------\n",
      " |  Static methods defined here:\n",
      " |  \n",
      " |  __new__(*args, **kwargs) from builtins.type\n",
      " |      Create and return a new object.  See help(type) for accurate signature.\n",
      " |  \n",
      " |  ----------------------------------------------------------------------\n",
      " |  Data and other attributes defined here:\n",
      " |  \n",
      " |  __hash__ = None\n",
      "\n"
     ]
    }
   ],
   "source": [
    "# Documentation for list class:\n",
    "\n",
    "help(list)"
   ]
  },
  {
   "cell_type": "code",
   "execution_count": 11,
   "metadata": {},
   "outputs": [
    {
     "name": "stdout",
     "output_type": "stream",
     "text": [
      "Help on class Employee in module __main__:\n",
      "\n",
      "class Employee(builtins.object)\n",
      " |  Help: An Employee class documentation\n",
      " |  The instance of class can be used to create and manage Employee data\n",
      " |  It stores info like, name, address, education details etc\n",
      " |  \n",
      " |  Data descriptors defined here:\n",
      " |  \n",
      " |  __dict__\n",
      " |      dictionary for instance variables (if defined)\n",
      " |  \n",
      " |  __weakref__\n",
      " |      list of weak references to the object (if defined)\n",
      "\n"
     ]
    }
   ],
   "source": [
    "help(Employee)"
   ]
  },
  {
   "cell_type": "code",
   "execution_count": 12,
   "metadata": {},
   "outputs": [],
   "source": [
    "e1 = Employee()"
   ]
  },
  {
   "cell_type": "code",
   "execution_count": 13,
   "metadata": {},
   "outputs": [
    {
     "name": "stdout",
     "output_type": "stream",
     "text": [
      "Employee e1:  <__main__.Employee object at 0x00000231031E3948>\n"
     ]
    }
   ],
   "source": [
    "print('Employee e1: ', e1)"
   ]
  },
  {
   "cell_type": "code",
   "execution_count": 14,
   "metadata": {},
   "outputs": [
    {
     "name": "stdout",
     "output_type": "stream",
     "text": [
      "Employee dict: {'__module__': '__main__', '__doc__': '\\n    Help: An Employee class documentation\\n    The instance of class can be used to create and manage Employee data\\n    It stores info like, name, address, education details etc\\n    \\n    ', '__dict__': <attribute '__dict__' of 'Employee' objects>, '__weakref__': <attribute '__weakref__' of 'Employee' objects>}\n"
     ]
    }
   ],
   "source": [
    "# Every class and object internally contains a dictionary to store the metadata for each\n",
    "# __module__ : It internally creates __main__ by default\n",
    "# ClassName.__dict__ : To access internal info of class\n",
    "\n",
    "print('Employee dict:', Employee.__dict__)"
   ]
  },
  {
   "cell_type": "code",
   "execution_count": 15,
   "metadata": {},
   "outputs": [
    {
     "name": "stdout",
     "output_type": "stream",
     "text": [
      "Employee dict: __main__\n"
     ]
    }
   ],
   "source": [
    "print('Employee dict:', Employee.__module__)\n",
    "\n",
    "# by default: __main__"
   ]
  },
  {
   "cell_type": "code",
   "execution_count": 16,
   "metadata": {},
   "outputs": [
    {
     "name": "stdout",
     "output_type": "stream",
     "text": [
      "e1 dict:  {}\n"
     ]
    }
   ],
   "source": [
    "print('e1 dict: ', e1.__dict__)"
   ]
  },
  {
   "cell_type": "code",
   "execution_count": 17,
   "metadata": {},
   "outputs": [],
   "source": [
    "# __init__ : Like a constructor, also called as dender function (double underscore)\n",
    "#          - It is the fuction which gets called auctomatically whenever we create object of class. \n",
    "#          - We don't have to call the fuction explicitly as they are internal to python.\n",
    "#          - We can define how object should look like using __init__\n",
    "\n",
    "class Employee:\n",
    "    '''\n",
    "    Help: An Employee class documentation\n",
    "    The instance of class can be used to create and manage Employee data\n",
    "    It stores info like, name, address, education details etc\n",
    "    '''\n",
    "    def __init__(self, firstname, lastname):\n",
    "        self.fn = firstname\n",
    "        self.ln = lastname\n",
    "        \n",
    "        \n",
    "        # Here, self has been taken care internally by python.\n",
    "        # Whenever we create an object, the interpreter create as address for object and passes it to self.\n",
    "        # We can say, to initialize 'self', pass other two parameters\n",
    "        # self is python defined here and used for object recognition"
   ]
  },
  {
   "cell_type": "markdown",
   "metadata": {},
   "source": [
    "- self represents the instance of the class, and is used to recognize that for which object we are calling class. \n",
    "- By using the “self” keyword we can access the attributes and methods of the class in python. \n",
    "- It binds the attributes with the given arguments. \n",
    "- The reason you need to use self is because Python does not use the @ syntax to refer to instance attributes."
   ]
  },
  {
   "cell_type": "code",
   "execution_count": 18,
   "metadata": {},
   "outputs": [],
   "source": [
    "# This will throw error\n",
    "\n",
    "# e1 = Employee()"
   ]
  },
  {
   "cell_type": "code",
   "execution_count": 19,
   "metadata": {},
   "outputs": [],
   "source": [
    "e1 = Employee(\"Deepali\", \"Borse\")"
   ]
  },
  {
   "cell_type": "code",
   "execution_count": 20,
   "metadata": {},
   "outputs": [],
   "source": [
    "e2 = Employee('Anushka', 'Borse')"
   ]
  },
  {
   "cell_type": "code",
   "execution_count": 21,
   "metadata": {},
   "outputs": [
    {
     "name": "stdout",
     "output_type": "stream",
     "text": [
      "e1 dict:  {'fn': 'Deepali', 'ln': 'Borse'} \n",
      "e2 dict:  {'fn': 'Anushka', 'ln': 'Borse'}\n"
     ]
    }
   ],
   "source": [
    "print('e1 dict: ', e1.__dict__ , '\\ne2 dict: ', e2.__dict__)"
   ]
  },
  {
   "cell_type": "code",
   "execution_count": 22,
   "metadata": {},
   "outputs": [],
   "source": [
    "# So here we created 2 different objects for class Employee, there attributes are different but structure and featurename for \n",
    "# both objects is same.\n",
    "\n",
    "# It's like statue made up of same mould but with having some different colours"
   ]
  },
  {
   "cell_type": "code",
   "execution_count": 23,
   "metadata": {},
   "outputs": [],
   "source": [
    "class Student:\n",
    "    def __init__(self, name):\n",
    "        self.name = name\n",
    "        self.grades = []\n",
    "        \n",
    "        # self : parameter in instance method\n",
    "        # If you have a fuction, which needs to be called on objects, you'll need self\n",
    "        # Here, the fuction takes name as parameter only, but it still creates grades object internally\n",
    "        # what is required to create is defined inside (..) but what objects the fuction will store is written inside the init fuction."
   ]
  },
  {
   "cell_type": "code",
   "execution_count": 24,
   "metadata": {},
   "outputs": [],
   "source": [
    "s1 = Student('Deepali')"
   ]
  },
  {
   "cell_type": "code",
   "execution_count": 25,
   "metadata": {},
   "outputs": [
    {
     "name": "stdout",
     "output_type": "stream",
     "text": [
      "s1 dict:  {'name': 'Deepali', 'grades': []}\n"
     ]
    }
   ],
   "source": [
    "print('s1 dict: ', s1.__dict__)"
   ]
  },
  {
   "cell_type": "code",
   "execution_count": 26,
   "metadata": {},
   "outputs": [],
   "source": [
    "class Student:\n",
    "    def __init__(self, name):\n",
    "        self.name = name\n",
    "        self.grades = []\n",
    "        \n",
    "    def addGrade(self, marks):\n",
    "        self.grades.append(marks)\n",
    "        # Adding marks to grade list\n",
    "        \n",
    "    def getAvg(self):\n",
    "        return sum(self.grades)/len(self.grades)"
   ]
  },
  {
   "cell_type": "code",
   "execution_count": 27,
   "metadata": {},
   "outputs": [
    {
     "name": "stdout",
     "output_type": "stream",
     "text": [
      "s2 dict:  {'name': 'Anushka', 'grades': []}\n"
     ]
    }
   ],
   "source": [
    "s2 = Student('Anushka')\n",
    "\n",
    "print('s2 dict: ', s2.__dict__)"
   ]
  },
  {
   "cell_type": "code",
   "execution_count": 28,
   "metadata": {},
   "outputs": [],
   "source": [
    "s2.addGrade(70)\n",
    "s2.addGrade(40)\n",
    "s2.addGrade(60)\n",
    "\n",
    "\n",
    "# will reflect in dictionary of s2 only"
   ]
  },
  {
   "cell_type": "code",
   "execution_count": 29,
   "metadata": {},
   "outputs": [
    {
     "name": "stdout",
     "output_type": "stream",
     "text": [
      "s2 dict:  {'name': 'Anushka', 'grades': [70, 40, 60]}\n"
     ]
    }
   ],
   "source": [
    "print('s2 dict: ', s2.__dict__)"
   ]
  },
  {
   "cell_type": "code",
   "execution_count": 30,
   "metadata": {},
   "outputs": [],
   "source": [
    "# Here we appended marks for s2 objects only. We can do the same for other objects also, and it won't add makrks for all \n",
    "# objects in same list. It will have different grades list for each object. "
   ]
  },
  {
   "cell_type": "code",
   "execution_count": 31,
   "metadata": {},
   "outputs": [],
   "source": [
    "s3 = Student('Mukta')\n",
    "s3.addGrade(90)"
   ]
  },
  {
   "cell_type": "code",
   "execution_count": 32,
   "metadata": {},
   "outputs": [
    {
     "name": "stdout",
     "output_type": "stream",
     "text": [
      "s3 dict:  {'name': 'Mukta', 'grades': [90]}\n"
     ]
    }
   ],
   "source": [
    "print('s3 dict: ', s3.__dict__)"
   ]
  },
  {
   "cell_type": "code",
   "execution_count": 33,
   "metadata": {},
   "outputs": [
    {
     "data": {
      "text/plain": [
       "56.666666666666664"
      ]
     },
     "execution_count": 33,
     "metadata": {},
     "output_type": "execute_result"
    }
   ],
   "source": [
    "s2.getAvg()"
   ]
  },
  {
   "cell_type": "code",
   "execution_count": 34,
   "metadata": {},
   "outputs": [],
   "source": [
    "class Employee:\n",
    "    employee_count = 0\n",
    "    def __init__(self, firstname, lastname, age, salary):\n",
    "        self.fn = firstname\n",
    "        self.ln = lastname\n",
    "        self.age = age\n",
    "        self.salary = salary\n",
    "        self.email = \"{}.{}@gmail.com\".format(self.fn, self.ln)\n",
    "        self.eid = Employee.employee_count\n",
    "        \n",
    "        Employee.employee_count += 1 # Employee.employee_count = Employee.employee_count + 1\n",
    "        \n",
    "    def printDetails(self):\n",
    "        print(\"Employee Details: \\n Name: {} ,\\n Last Name: {} ,\\n Age: {} ,\\n Salary: {} ,\\n Email: {} ,\\n Eid: {} \\n\".format(\n",
    "            self.fn, self.ln, self.age, self.salary, self.email, self.eid))"
   ]
  },
  {
   "cell_type": "code",
   "execution_count": 35,
   "metadata": {},
   "outputs": [],
   "source": [
    "e1 = Employee(\"Deepali\", \"Borse\", 32, 10000)"
   ]
  },
  {
   "cell_type": "code",
   "execution_count": 36,
   "metadata": {},
   "outputs": [],
   "source": [
    "e2 = Employee(\"P\", \"Shaw\", 27, 50)"
   ]
  },
  {
   "cell_type": "code",
   "execution_count": 37,
   "metadata": {},
   "outputs": [
    {
     "name": "stdout",
     "output_type": "stream",
     "text": [
      "Employee dict :  {'__module__': '__main__', 'employee_count': 2, '__init__': <function Employee.__init__ at 0x000002310314D708>, 'printDetails': <function Employee.printDetails at 0x0000023103150A68>, '__dict__': <attribute '__dict__' of 'Employee' objects>, '__weakref__': <attribute '__weakref__' of 'Employee' objects>, '__doc__': None}\n"
     ]
    }
   ],
   "source": [
    "print(\"Employee dict : \", Employee.__dict__)"
   ]
  },
  {
   "cell_type": "code",
   "execution_count": 38,
   "metadata": {},
   "outputs": [
    {
     "name": "stdout",
     "output_type": "stream",
     "text": [
      "e1 dict :  {'fn': 'Deepali', 'ln': 'Borse', 'age': 32, 'salary': 10000, 'email': 'Deepali.Borse@gmail.com', 'eid': 0}\n"
     ]
    }
   ],
   "source": [
    "print(\"e1 dict : \", e1.__dict__)"
   ]
  },
  {
   "cell_type": "code",
   "execution_count": 39,
   "metadata": {},
   "outputs": [
    {
     "name": "stdout",
     "output_type": "stream",
     "text": [
      "e2 dict :  {'fn': 'P', 'ln': 'Shaw', 'age': 27, 'salary': 50, 'email': 'P.Shaw@gmail.com', 'eid': 1}\n"
     ]
    }
   ],
   "source": [
    "print(\"e2 dict : \", e2.__dict__)"
   ]
  },
  {
   "cell_type": "code",
   "execution_count": 40,
   "metadata": {},
   "outputs": [
    {
     "name": "stdout",
     "output_type": "stream",
     "text": [
      "Employee Details: \n",
      " Name: Deepali ,\n",
      " Last Name: Borse ,\n",
      " Age: 32 ,\n",
      " Salary: 10000 ,\n",
      " Email: Deepali.Borse@gmail.com ,\n",
      " Eid: 0 \n",
      "\n"
     ]
    }
   ],
   "source": [
    "e1.printDetails()"
   ]
  },
  {
   "cell_type": "code",
   "execution_count": 41,
   "metadata": {},
   "outputs": [
    {
     "name": "stdout",
     "output_type": "stream",
     "text": [
      "2\n"
     ]
    }
   ],
   "source": [
    "print(e1.employee_count)\n",
    "\n",
    "\n",
    "# Even employee_count is at class level, any object will have access to it.\n",
    "# All objects will have direct access to any information available at class level and that information will be common to all objects."
   ]
  },
  {
   "cell_type": "code",
   "execution_count": 42,
   "metadata": {},
   "outputs": [
    {
     "name": "stdout",
     "output_type": "stream",
     "text": [
      "2\n"
     ]
    }
   ],
   "source": [
    "print(Employee.employee_count)"
   ]
  },
  {
   "cell_type": "markdown",
   "metadata": {},
   "source": [
    "## Encapsulation, Abstraction, Polymorphism, Inheritance"
   ]
  },
  {
   "cell_type": "code",
   "execution_count": 43,
   "metadata": {},
   "outputs": [],
   "source": [
    "# To restrict direct access of class level information to objects, we have:\n",
    "\n",
    "# Encapsulation - When implementation is hidden and only functions are exposed. Works across same class. \n",
    "# Abstraction - Hiding unnecessary (functionality)info/code from uses and it works across different classes.\n",
    "# Polymorphism\n",
    "# Inheritance"
   ]
  },
  {
   "cell_type": "code",
   "execution_count": 44,
   "metadata": {},
   "outputs": [],
   "source": [
    "class Employee:\n",
    "    __employee_count = 0    # this now has became private to class only, can't access outside class(by using double underscore)\n",
    "    \n",
    "    def __init__(self, firstname, lastname, age, salary):\n",
    "        self.fn = firstname\n",
    "        self.ln = lastname\n",
    "        self.age = age\n",
    "        self.salary = salary\n",
    "        self.email = \"{}.{}@gmail.com\".format(self.fn, self.ln)\n",
    "        self.eid = Employee.__employee_count\n",
    "        \n",
    "        Employee.employee_count += 1 # Employee.employee_count = Employee.employee_count + 1\n",
    "        \n",
    "    def printDetails(self):\n",
    "        print(\"Employee Details: Name: {}, Last Name: {}, Age: {}, Salary: {}, Email: {}, Eid: {}\".format(\n",
    "            self.fn, self.ln, self.age, self.salary, self.email, self.eid))"
   ]
  },
  {
   "cell_type": "code",
   "execution_count": 45,
   "metadata": {},
   "outputs": [],
   "source": [
    "# These both will throw error\n",
    "\n",
    "#print(e1.__employee_count)\n",
    "#print(Employee.__employee_count)"
   ]
  },
  {
   "cell_type": "code",
   "execution_count": 46,
   "metadata": {},
   "outputs": [],
   "source": [
    "class Employee:\n",
    "    __employee_count = 0\n",
    "    def __init__(self, firstname, lastname, age, salary):\n",
    "        self.fn = firstname\n",
    "        self.ln = lastname\n",
    "        self.age = age\n",
    "        self.salary = salary\n",
    "        self.email = \"{}.{}@gmail.com\".format(self.fn, self.ln)\n",
    "        Employee.__employee_count += 1 \n",
    "        \n",
    "    def printDetails(self):\n",
    "        print(\"Employee Details: Name: {}, Last Name: {}, Age: {}, Salary: {}, Email: {}\".format(\n",
    "            self.fn, self.ln, self.age, self.salary, self.email))\n",
    "    \n",
    "    def GetEmployeeCount(self):\n",
    "        return self.__employee_count"
   ]
  },
  {
   "cell_type": "code",
   "execution_count": 47,
   "metadata": {},
   "outputs": [],
   "source": [
    "e1 = Employee(\"Deepali\", \"Borse\", 32, 100)"
   ]
  },
  {
   "cell_type": "code",
   "execution_count": 48,
   "metadata": {},
   "outputs": [],
   "source": [
    "# It will throw error because we are calling a private variable using object\n",
    "\n",
    "#print(e1.__employee_count)"
   ]
  },
  {
   "cell_type": "code",
   "execution_count": 49,
   "metadata": {},
   "outputs": [],
   "source": [
    "# It will throw error because we are trying to access private variable outside the class.\n",
    "\n",
    "#print(Employee.__employee_count)"
   ]
  },
  {
   "cell_type": "code",
   "execution_count": 50,
   "metadata": {},
   "outputs": [
    {
     "name": "stdout",
     "output_type": "stream",
     "text": [
      "1\n"
     ]
    }
   ],
   "source": [
    "# we are calling a function of class which has the info of private variable. \n",
    "# In other way we are not disturbing the private variable directly.\n",
    "\n",
    "print(e1.GetEmployeeCount())"
   ]
  },
  {
   "cell_type": "code",
   "execution_count": 51,
   "metadata": {},
   "outputs": [],
   "source": [
    "# Without decorator it will throw error since we have used self in fuction, and self is used to initialise \n",
    "# objects and not class\n",
    "\n",
    "# print(Employee.GetEmployeeCount())"
   ]
  },
  {
   "cell_type": "code",
   "execution_count": null,
   "metadata": {},
   "outputs": [],
   "source": []
  },
  {
   "cell_type": "code",
   "execution_count": 52,
   "metadata": {},
   "outputs": [],
   "source": [
    "class Employee:\n",
    "    __employee_count = 0\n",
    "    def __init__(self, firstname, lastname, age, salary):\n",
    "        self.fn = firstname\n",
    "        self.ln = lastname\n",
    "        self.age = age\n",
    "        self.salary = salary\n",
    "        self.email = \"{}.{}@gmail.com\".format(self.fn, self.ln)\n",
    "        Employee.__employee_count += 1 \n",
    "        \n",
    "    def printDetails(self):\n",
    "        print(\"Employee Details: Name: {}, Last Name: {}, Age: {}, Salary: {}, Email: {}\".format(\n",
    "            self.fn, self.ln, self.age, self.salary, self.email))\n",
    "    \n",
    "    @classmethod # decorator\n",
    "    def GetEmployeeCount(cls):\n",
    "        return cls.__employee_count"
   ]
  },
  {
   "cell_type": "code",
   "execution_count": 53,
   "metadata": {},
   "outputs": [],
   "source": [
    "# So instead of using 'self', we'll use 'cls' (class)\n",
    "\n",
    "# When we declare a function using @classmethos, we can call that function using class, unlike self (self is used to call the fuction using objects)\n",
    "# When we want to have some functionalities that should be available by calling the class,  go for 'classmethod'\n",
    "# @classmethod is like a wrapper function, and it will give function some additional functionalities.\n",
    "# So by using this method, we don't need to an object to call this class. "
   ]
  }
 ],
 "metadata": {
  "kernelspec": {
   "display_name": "Python 3",
   "language": "python",
   "name": "python3"
  },
  "language_info": {
   "codemirror_mode": {
    "name": "ipython",
    "version": 3
   },
   "file_extension": ".py",
   "mimetype": "text/x-python",
   "name": "python",
   "nbconvert_exporter": "python",
   "pygments_lexer": "ipython3",
   "version": "3.7.6"
  }
 },
 "nbformat": 4,
 "nbformat_minor": 4
}
