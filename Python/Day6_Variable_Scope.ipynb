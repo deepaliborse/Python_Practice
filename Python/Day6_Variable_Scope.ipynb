{
 "cells": [
  {
   "cell_type": "markdown",
   "metadata": {},
   "source": [
    "# Local Variable"
   ]
  },
  {
   "cell_type": "code",
   "execution_count": 1,
   "metadata": {},
   "outputs": [],
   "source": [
    "def myfunction():\n",
    "    a = 'Local Python Object'\n",
    "    print(a)\n",
    "    print('Inside Myfuction')\n",
    "    \n",
    "    \n",
    "# No output because we defined everything inside function "
   ]
  },
  {
   "cell_type": "code",
   "execution_count": 3,
   "metadata": {},
   "outputs": [
    {
     "name": "stdout",
     "output_type": "stream",
     "text": [
      "Local Python Object\n",
      "Inside Myfuction\n"
     ]
    }
   ],
   "source": [
    "myfunction()\n",
    "\n",
    "# We get Output only after calling the function "
   ]
  },
  {
   "cell_type": "code",
   "execution_count": 5,
   "metadata": {},
   "outputs": [],
   "source": [
    "#print('The value of a: ', a)\n",
    "\n",
    "\n",
    "# This will throw error because we are using a outside the function.\n",
    "# Here a in exclusive to \"myfunction variable\", and a's scope is only limited to that function only\n",
    "# Every variable has scope as local by default if defined inside function"
   ]
  },
  {
   "cell_type": "markdown",
   "metadata": {},
   "source": [
    "# Global Variable"
   ]
  },
  {
   "cell_type": "code",
   "execution_count": 8,
   "metadata": {},
   "outputs": [],
   "source": [
    "def global_Var_function():\n",
    "    global temp\n",
    "    temp = \"Global Python Object\"\n",
    "    print(temp)\n",
    "    print('Inside global_Var_function.')"
   ]
  },
  {
   "cell_type": "code",
   "execution_count": 9,
   "metadata": {},
   "outputs": [
    {
     "name": "stdout",
     "output_type": "stream",
     "text": [
      "Global Python Object\n",
      "Inside global_Var_function.\n"
     ]
    }
   ],
   "source": [
    "global_Var_function()"
   ]
  },
  {
   "cell_type": "code",
   "execution_count": 11,
   "metadata": {},
   "outputs": [
    {
     "name": "stdout",
     "output_type": "stream",
     "text": [
      "The value of temp:  Global Python Object\n"
     ]
    }
   ],
   "source": [
    "print('The value of temp: ', temp)\n",
    "\n",
    "# Here, we defined temp as global, so it's scope will remain throughout the whole program.\n",
    "# temp won't be exclusive to any function \n",
    "# We can use temp with or without any function"
   ]
  },
  {
   "cell_type": "markdown",
   "metadata": {},
   "source": [
    "### Example:"
   ]
  },
  {
   "cell_type": "code",
   "execution_count": 17,
   "metadata": {},
   "outputs": [],
   "source": [
    "#global runscore\n",
    "runscore = 1\n",
    "\n",
    "\n",
    "def localfunction():\n",
    "    runscore = 2          # New local object\n",
    "                          #This runscore belongs to localfunction alone only and won't be able to access outside function\n",
    "    print(\"\\n-----\\nValue of runscore in localfunction() is: \", runscore)\n",
    "    \n",
    "    \n",
    "def globalfunction():\n",
    "    global runscore       #This runscore belongs to globalfunction but will be able to access throuout the program\n",
    "    runscore = 3\n",
    "    print(\"\\n-----\\nValue of runscore in globalfunction() is: \", runscore)"
   ]
  },
  {
   "cell_type": "code",
   "execution_count": 18,
   "metadata": {},
   "outputs": [
    {
     "name": "stdout",
     "output_type": "stream",
     "text": [
      "\n",
      "Value of runscore in main is:  1\n",
      "\n",
      "-----\n",
      "Value of runscore in localfunction() is:  2\n",
      "After calling localfunction, Value of runscore in main is:  1\n",
      "\n",
      "-----\n",
      "Value of runscore in globalfunction() is:  3\n",
      "After calling globalfunction, Value of runscore in main is:  3\n",
      "\n",
      "-----\n",
      "Value of runscore in localfunction() is:  2\n",
      "After calling localfunction, Value of runscore in main is:  3\n"
     ]
    }
   ],
   "source": [
    "print(\"\\nValue of runscore in main is: \", runscore)\n",
    "\n",
    "localfunction()\n",
    "print(\"After calling localfunction, Value of runscore in main is: \", runscore)\n",
    "\n",
    "globalfunction()\n",
    "print(\"After calling globalfunction, Value of runscore in main is: \", runscore)\n",
    "\n",
    "localfunction()\n",
    "print(\"After calling localfunction, Value of runscore in main is: \", runscore)"
   ]
  },
  {
   "cell_type": "code",
   "execution_count": 15,
   "metadata": {},
   "outputs": [],
   "source": [
    "# localfunction scenario: runscore in localfuction will remain same as defined inside the function, since it's scope is local. It won't affect runscore in main.\n",
    "\n",
    "# globalfunction scenario: runscore defined in globalfunction will overwrite the runscore variable in main due to it's scope as 'global'.\n",
    "\n",
    "# runscore will have the latest value no matter who overwrote it"
   ]
  },
  {
   "cell_type": "code",
   "execution_count": null,
   "metadata": {},
   "outputs": [],
   "source": []
  }
 ],
 "metadata": {
  "kernelspec": {
   "display_name": "Python 3",
   "language": "python",
   "name": "python3"
  },
  "language_info": {
   "codemirror_mode": {
    "name": "ipython",
    "version": 3
   },
   "file_extension": ".py",
   "mimetype": "text/x-python",
   "name": "python",
   "nbconvert_exporter": "python",
   "pygments_lexer": "ipython3",
   "version": "3.7.6"
  }
 },
 "nbformat": 4,
 "nbformat_minor": 4
}
