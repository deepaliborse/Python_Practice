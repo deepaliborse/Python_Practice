{
 "cells": [
  {
   "cell_type": "code",
   "execution_count": 1,
   "metadata": {},
   "outputs": [
    {
     "name": "stdout",
     "output_type": "stream",
     "text": [
      "Enter grade for sub1 (between 0-10): 3\n",
      "Enter grade for sub1 (between 0-10): 5\n",
      "for how many classes student was absent?: 1\n",
      "Total number of classes:10\n",
      "\n",
      "Failed due to low grade!\n"
     ]
    }
   ],
   "source": [
    "grade1=int(input(\"Enter grade for sub1 (between 0-10): \"))\n",
    "\n",
    "grade2=int(input(\"Enter grade for sub1 (between 0-10): \"))\n",
    "\n",
    "absent=int(input(\"for how many classes student was absent?: \"))\n",
    "\n",
    "total=int(input(\"Total number of classes:\"))\n",
    "\n",
    "grade=(grade1+grade2)/2\n",
    "\n",
    "attendance=(total-absent)/total*100\n",
    "\n",
    "\n",
    "\n",
    "if grade<=6 and attendance>=80:\n",
    "    print(\"\\nFailed due to low grade!\")\n",
    "elif attendance<=80 and grade>=6:\n",
    "    print(\"\\nFailed due to low attendance!\")\n",
    "elif grade<=6 and attendance<=80:\n",
    "    print(\"\\nFailed due to low grades and attendance!\")\n",
    "else:\n",
    "    print(\"\\nApproved!\")"
   ]
  },
  {
   "cell_type": "code",
   "execution_count": null,
   "metadata": {},
   "outputs": [],
   "source": []
  }
 ],
 "metadata": {
  "kernelspec": {
   "display_name": "Python 3",
   "language": "python",
   "name": "python3"
  },
  "language_info": {
   "codemirror_mode": {
    "name": "ipython",
    "version": 3
   },
   "file_extension": ".py",
   "mimetype": "text/x-python",
   "name": "python",
   "nbconvert_exporter": "python",
   "pygments_lexer": "ipython3",
   "version": "3.7.6"
  }
 },
 "nbformat": 4,
 "nbformat_minor": 4
}
