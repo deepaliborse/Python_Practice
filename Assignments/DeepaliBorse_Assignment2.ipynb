{
 "cells": [
  {
   "cell_type": "markdown",
   "metadata": {},
   "source": [
    "# Assignment - 2"
   ]
  },
  {
   "cell_type": "markdown",
   "metadata": {},
   "source": [
    "### 1.\tPython Program to Check if a Number is Odd or Even"
   ]
  },
  {
   "cell_type": "code",
   "execution_count": 1,
   "metadata": {},
   "outputs": [
    {
     "name": "stdout",
     "output_type": "stream",
     "text": [
      "Please enter any number:20\n",
      "\n",
      "Even Number!\n"
     ]
    }
   ],
   "source": [
    "num=int(input(\"Please enter any number:\"))\n",
    "\n",
    "if(num%2==0):\n",
    "    print(\"\\nEven Number!\")\n",
    "else:\n",
    "    print(\"\\nOdd Number!\")"
   ]
  },
  {
   "cell_type": "markdown",
   "metadata": {},
   "source": [
    "### 2.\tPython Program to Check Leap Year"
   ]
  },
  {
   "cell_type": "code",
   "execution_count": 2,
   "metadata": {},
   "outputs": [
    {
     "name": "stdout",
     "output_type": "stream",
     "text": [
      "Enter year afterwards of 1800's: 1997\n",
      "\n",
      "It's not a leap year!\n"
     ]
    }
   ],
   "source": [
    "year=int(input(\"Enter year afterwards of 1800's: \"))\n",
    "\n",
    "if year%4==0 or year%100==0 or year%400==0:\n",
    "    print(\"\\nIt's a leap year!\")\n",
    "else:\n",
    "    print(\"\\nIt's not a leap year!\")"
   ]
  },
  {
   "cell_type": "markdown",
   "metadata": {},
   "source": [
    "### 3.\tPython Program to Find the Largest Among Three Numbers"
   ]
  },
  {
   "cell_type": "code",
   "execution_count": 3,
   "metadata": {},
   "outputs": [
    {
     "name": "stdout",
     "output_type": "stream",
     "text": [
      "Enter first number: 12\n",
      "\n",
      "Enter second number: 2\n",
      "\n",
      "Enter third number: 34\n",
      "\n",
      "Largest number is:  34\n"
     ]
    }
   ],
   "source": [
    "num1 = int(input(\"Enter first number: \"))\n",
    "num2 = int(input(\"\\nEnter second number: \"))\n",
    "num3 = int(input(\"\\nEnter third number: \"))\n",
    "\n",
    "if num1>num2 and num1>num3:\n",
    "    print(\"\\nLargest number is: \",num1)\n",
    "elif num2>num1 and num2>num3:\n",
    "    print(\"\\nLargest number is: \",num2)\n",
    "else:\n",
    "    print(\"\\nLargest number is: \",num3)"
   ]
  },
  {
   "cell_type": "markdown",
   "metadata": {},
   "source": [
    "### 4.\tPython Program to Check Prime Number"
   ]
  },
  {
   "cell_type": "code",
   "execution_count": 4,
   "metadata": {},
   "outputs": [
    {
     "name": "stdout",
     "output_type": "stream",
     "text": [
      "Enter any number: 23\n",
      "\n",
      "Prime Number!\n"
     ]
    }
   ],
   "source": [
    "number=int(input(\"Enter any number: \"))\n",
    "\n",
    "if(number>1):\n",
    "    for i in range(2,int(number/2)+1):\n",
    "        if number%i==0:\n",
    "            print(\"\\nNot Prime Number!\")\n",
    "            break;\n",
    "        else:\n",
    "            print(\"\\nPrime Number!\")\n",
    "            break;\n",
    "            \n",
    "else:\n",
    "    print(\"\\nNot Prime Number!\")"
   ]
  },
  {
   "cell_type": "markdown",
   "metadata": {},
   "source": [
    "### 5.\tPython Program to Print all Prime Numbers in an Interval"
   ]
  },
  {
   "cell_type": "code",
   "execution_count": 5,
   "metadata": {},
   "outputs": [
    {
     "name": "stdout",
     "output_type": "stream",
     "text": [
      "Enter start of range: 5\n",
      "Enter ending of range: 80\n",
      "\n",
      "The prime numbers between 5 and 80 are:\n",
      "5\n",
      "7\n",
      "11\n",
      "13\n",
      "17\n",
      "19\n",
      "23\n",
      "29\n",
      "31\n",
      "37\n",
      "41\n",
      "43\n",
      "47\n",
      "53\n",
      "59\n",
      "61\n",
      "67\n",
      "71\n",
      "73\n",
      "79\n"
     ]
    }
   ],
   "source": [
    "start = int(input(\"Enter start of range: \"))  \n",
    "end = int(input(\"Enter ending of range: \"))  \n",
    "\n",
    "print(\"\\nThe prime numbers between {} and {} are:\".format(start,end))\n",
    "  \n",
    "for num in range(start,end + 1):  \n",
    "    if num > 1:  \n",
    "        for i in range(2,num):  \n",
    "            if (num % i) == 0:  \n",
    "                break  \n",
    "        else:  \n",
    "            print(num) "
   ]
  },
  {
   "cell_type": "markdown",
   "metadata": {},
   "source": [
    "### 6.\tPython Program to Find the Factorial of a Number"
   ]
  },
  {
   "cell_type": "code",
   "execution_count": 6,
   "metadata": {},
   "outputs": [
    {
     "name": "stdout",
     "output_type": "stream",
     "text": [
      "Enter any number: 5\n",
      "Factorial of 5 is: 120\n"
     ]
    }
   ],
   "source": [
    "import math\n",
    "\n",
    "num=int(input(\"Enter any number: \"))\n",
    "\n",
    "print(\"Factorial of {} is:\".format(num),math.factorial(num))"
   ]
  },
  {
   "cell_type": "markdown",
   "metadata": {},
   "source": [
    "### 7.\tPython Program to Display the multiplication Table"
   ]
  },
  {
   "cell_type": "code",
   "execution_count": 7,
   "metadata": {},
   "outputs": [
    {
     "name": "stdout",
     "output_type": "stream",
     "text": [
      "Enter any number: 15\n",
      "\n",
      "Multiplication table of 15:\n",
      "15 * 1 = 15\n",
      "15 * 2 = 30\n",
      "15 * 3 = 45\n",
      "15 * 4 = 60\n",
      "15 * 5 = 75\n",
      "15 * 6 = 90\n",
      "15 * 7 = 105\n",
      "15 * 8 = 120\n",
      "15 * 9 = 135\n",
      "15 * 10 = 150\n"
     ]
    }
   ],
   "source": [
    "b=int(input(\"Enter any number: \"))\n",
    "\n",
    "a = range(1,11)\n",
    "\n",
    "print(\"\\nMultiplication table of {}:\".format(b))\n",
    "\n",
    "for i in a:\n",
    "    print(b,\"*\",i,\"=\",b*i)"
   ]
  },
  {
   "cell_type": "markdown",
   "metadata": {},
   "source": [
    "### 8.\tPython Program to Print the Fibonacci sequence"
   ]
  },
  {
   "cell_type": "code",
   "execution_count": 8,
   "metadata": {},
   "outputs": [
    {
     "name": "stdout",
     "output_type": "stream",
     "text": [
      "Enter the range for Fibonacci Series10\n",
      "The fibonacci sequence of the numbers is:\n",
      "0\n",
      "1\n",
      "1\n",
      "2\n",
      "3\n",
      "5\n",
      "8\n",
      "13\n",
      "21\n",
      "34\n"
     ]
    }
   ],
   "source": [
    "terms = int(input (\"Enter the range for Fibonacci Series\"))  \n",
    "   \n",
    "n1 = 0  \n",
    "n2 = 1  \n",
    "count = 0  \n",
    "   \n",
    "if terms <= 0:  \n",
    "    print (\"Please enter a positive integer\")  \n",
    "\n",
    "elif terms == 1:  \n",
    "    print (\"The Fibonacci sequence of the numbers up to\", terms, \": \")  \n",
    "    print(n1) \n",
    "    \n",
    "\n",
    "else:  \n",
    "    print (\"The fibonacci sequence of the numbers is:\")  \n",
    "    \n",
    "    while count < terms:  \n",
    "        print(n1)  \n",
    "        n = n1 + n2 \n",
    "        \n",
    "       #updating values  \n",
    "        n1 = n2  \n",
    "        n2 = n  \n",
    "        count += 1  "
   ]
  },
  {
   "cell_type": "markdown",
   "metadata": {},
   "source": [
    "### 9.\tPython Program to Check Armstrong Number"
   ]
  },
  {
   "cell_type": "code",
   "execution_count": 9,
   "metadata": {},
   "outputs": [
    {
     "name": "stdout",
     "output_type": "stream",
     "text": [
      "Enter a number: 903\n",
      "903 is not an Armstrong number\n"
     ]
    }
   ],
   "source": [
    "num = int(input(\"Enter a number: \"))\n",
    "\n",
    "sum = 0\n",
    "\n",
    "# find the sum of the cube of each digit\n",
    "temp = num\n",
    "while temp > 0:\n",
    "    digit = temp % 10\n",
    "    sum += digit ** 3\n",
    "    temp //= 10\n",
    "\n",
    "\n",
    "if num == sum:\n",
    "    print(num,\"is an Armstrong number\")\n",
    "else:\n",
    "    print(num,\"is not an Armstrong number\")\n"
   ]
  },
  {
   "cell_type": "markdown",
   "metadata": {},
   "source": [
    "### 10.\tPython Program to Find Armstrong Number in an Interval"
   ]
  },
  {
   "cell_type": "code",
   "execution_count": 10,
   "metadata": {},
   "outputs": [
    {
     "name": "stdout",
     "output_type": "stream",
     "text": [
      "Enter start of range: 10\n",
      "Enter ending of range: 500\n",
      "\n",
      "Armstrong numbers between 10 and 500 :\n",
      "153\n",
      "370\n",
      "371\n",
      "407\n"
     ]
    }
   ],
   "source": [
    "# Program to check Armstrong numbers in a certain interval\n",
    "\n",
    "start = int(input(\"Enter start of range: \"))  \n",
    "end = int(input(\"Enter ending of range: \"))  \n",
    "\n",
    "print(\"\\nArmstrong numbers between {} and {} :\".format(start,end))\n",
    "\n",
    "for num in range(start, end + 1):\n",
    "\n",
    "   # order of number\n",
    "    order = len(str(num))\n",
    "    \n",
    "    sum = 0\n",
    "\n",
    "    temp = num\n",
    "    while temp > 0:\n",
    "        digit = temp % 10\n",
    "        sum += digit ** order\n",
    "        temp //= 10\n",
    "\n",
    "    if num == sum:\n",
    "        print(num)"
   ]
  },
  {
   "cell_type": "markdown",
   "metadata": {},
   "source": [
    "### 11.\tPython Program to Find the Sum of Natural Numbers"
   ]
  },
  {
   "cell_type": "code",
   "execution_count": 11,
   "metadata": {},
   "outputs": [
    {
     "name": "stdout",
     "output_type": "stream",
     "text": [
      "Enter the range for natural numbers10\n",
      "\n",
      "The sum of natural numbers till 10 is:  55\n"
     ]
    }
   ],
   "source": [
    "# Sum of natural numbers up to num\n",
    "\n",
    "numbers = int(input (\"Enter the range for natural numbers\"))  \n",
    "\n",
    "num=numbers\n",
    "\n",
    "if num < 0:\n",
    "    print(\"Enter a positive number\")\n",
    "else:\n",
    "    sum = 0\n",
    "    while(num > 0):\n",
    "        sum += num\n",
    "        num -= 1\n",
    "    print(\"\\nThe sum of natural numbers till {} is: \".format(numbers), sum)\n"
   ]
  },
  {
   "cell_type": "code",
   "execution_count": null,
   "metadata": {},
   "outputs": [],
   "source": []
  }
 ],
 "metadata": {
  "kernelspec": {
   "display_name": "Python 3",
   "language": "python",
   "name": "python3"
  },
  "language_info": {
   "codemirror_mode": {
    "name": "ipython",
    "version": 3
   },
   "file_extension": ".py",
   "mimetype": "text/x-python",
   "name": "python",
   "nbconvert_exporter": "python",
   "pygments_lexer": "ipython3",
   "version": "3.7.6"
  }
 },
 "nbformat": 4,
 "nbformat_minor": 4
}
